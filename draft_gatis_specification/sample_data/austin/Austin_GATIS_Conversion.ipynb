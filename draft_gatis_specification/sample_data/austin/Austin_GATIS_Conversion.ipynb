{
 "cells": [
  {
   "cell_type": "markdown",
   "id": "07bfd1ae",
   "metadata": {},
   "source": [
    "# Example GATIS Conversion Pipeline with Existing Active Transportation Data from Austin, Texas \n",
    "---\n"
   ]
  },
  {
   "cell_type": "markdown",
   "id": "51002aa3",
   "metadata": {},
   "source": [
    "This notebook demonstrates a potential workflow for converting existing active transportation data into GATIS format. Data are converted into GATIS format using our best guess at what the mapping would be, so there may be certain attributes that were misinterpreted or missed. In terms of GATIS' tier structure, this data is Tier 2, though it contains some additional attributes above Tier 2.\n",
    "\n",
    "The final sample data can be accessed using the following links:\n",
    "<ul>\n",
    "    <li><a href='https://usdot.maps.arcgis.com/home/item.html?id=936f374afa8d4612ba1fafaf3eedc000'>Sample GATIS Edges (Austin, TX) Feature Layer</a></li>\n",
    "    <li><a href='https://usdot.maps.arcgis.com/home/item.html?id=bd0e32d7b09e4cd6a9cb41a6ac8b8864'>Sample GATIS Edges (Austin, TX) GeoJSON Download</a></li>\n",
    "    <li><a href='https://usdot.maps.arcgis.com/home/item.html?id=1c563a62a83244ba9edbeaa6eafee6a2'>Sample GATIS Nodes (Austin, TX) Feature Layer</a></li>\n",
    "    <li><a href='https://usdot.maps.arcgis.com/home/item.html?id=5b63f3dd5adf4503a756c2c0e9738a2c'>Sample GATIS Nodes (Austin, TX) GeoJSON Download</a></li>\n",
    "</ul>\n",
    "\n",
    "This notebook can be run using Jupyter Notebooks with a Python environment with the latest version of GeoPandas installed. The outputs of this notebook are retained in this file for reference.\n",
    "\n",
    "Feel free to create a copy of this notebook and modify as needed to convert other data sources to GATIS."
   ]
  },
  {
   "cell_type": "markdown",
   "id": "eee6537f",
   "metadata": {},
   "source": [
    "## Data Sources\n",
    "The table below provides links to the various datasets used to create the sample GATIS data. To re-run this notebook these data needs to be downloaded and placed in a folder called `data` within the same directory as this notebook.\n",
    "\n",
    "| Filename | Description |\n",
    "| -- | -- |\n",
    "| [Sidewalks_20250825.geojson](https://data.austintexas.gov/dataset/Sidewalks/vchz-d9ng/about_data) | Latest and most complete version of Austin sidewalks |\n",
    "| [TRANSPORTATION.markings_short_line_20250825.geojson](https://data.austintexas.gov/Transportation-and-Mobility/TRANSPORTATION-markings_short_line/9hak-anfp/about_data) | Only kept crosswalks |\n",
    "| [TRANSPORTATION_curb_ramps.geojson](https://hub.arcgis.com/datasets/a477eed132a04d26b70e74d8fba74c42_0/explore?location=30.322658%2C-97.746550%2C10.83&uiVersion=content-views) | Has curb ramps |\n",
    "| [TRANSPORTATION_asmp_street_network_20250825.geojson](https://data.austintexas.gov/Locations-and-Maps/TRANSPORTATION_asmp_street_network/cr24-n8br/about_data) | This one appears to conflict partially with the bicycle facilities one but contains more streets |\n",
    "| [TRANSPORTATION_urban_trails_network_20250825.geojson](https://data.austintexas.gov/Transportation-and-Mobility/TRANSPORTATION_urban_trails_network/jdwm-wfps/about_data) | Centerlines for bikeped trails that aren't in the other files |\n",
    "\n",
    "<!-- These were not included:\n",
    "| [Completed_Sidewalks_2021_09_30_20250825.geojson](https://data.austintexas.gov/Transportation-and-Mobility/Completed_Sidewalks_2021_09_30/6pkw-7frd/about_data) | Used Sidewalks_20250825.geojson instead |\n",
    "| [Flashing Beacons_20250825.geojson](https://data.austintexas.gov/Transportation-and-Mobility/Flashing-Beacons/wczq-5cer/about_data) | Contains PBHs in point format, would need to be spatially joined to crosswalk edges to be compliant with GATIS |\n",
    "| [Roadway Sign Assets_20250825.geojson](https://data.austintexas.gov/Transportation-and-Mobility/Roadway-Sign-Assets/ggnk-3ykn/about_data) | Signs haven't made it into GATIS yet |\n",
    "| [Traffic Signals and Pedestrian Signals_20250825.geojson](https://data.austintexas.gov/Transportation-and-Mobility/Traffic-Signals-and-Pedestrian-Signals/p53x-x73x/about_data) | Needs to be spatially joined to the crosswalk edges |\n",
    "| [TRANSPORTATION_bicycle_facilities_20250825.geojson](https://data.austintexas.gov/Transportation-and-Mobility/TRANSPORTATION_bicycle_facilities/23hw-a95n/about_data) | Overlaps with asmp_street_network and urban_trails |\n",
    "| [TRANSPORTATION_markings_long_line_20250825.csv](https://data.austintexas.gov/Transportation-and-Mobility/TRANSPORTATION_markings_long_line/nxkm-x3yr/about_data) | Didn't have a geometry column, might need to be joined to one of the other datasets? Does have bike facilities. |\n",
    "| [TRANSPORTATION_markings_specialty_line_20250825.geojson](https://data.austintexas.gov/Transportation-and-Mobility/TRANSPORTATION_markings_specialty_line/rczx-h2ey/about_data) | Contains some bike facility separation components that could be joined to bike facilities |\n",
    "| [TRANSPORTATION_markings_specialty_point_20250825.geojson](https://data.austintexas.gov/Transportation-and-Mobility/TRANSPORTATION_markings_specialty_point/53jy-y8pj/about_data) | Points for thermoplastic/paint pictogram markings on the road. Not applicable to GATIS. | -->"
   ]
  },
  {
   "cell_type": "markdown",
   "id": "9032ac8f",
   "metadata": {},
   "source": [
    "## Import required packages"
   ]
  },
  {
   "cell_type": "code",
   "execution_count": 7,
   "id": "6d252ce8",
   "metadata": {},
   "outputs": [],
   "source": [
    "import requests\n",
    "import pandas as pd\n",
    "import numpy as np\n",
    "import geopandas as gpd\n",
    "from pathlib import Path\n",
    "import json\n",
    "import shapely\n",
    "from shapely.ops import Point, LineString\n",
    "from pyprojroot import here\n",
    "\n",
    "# custom module installed with pip install -e .\n",
    "from gatis_sample_data import utils, gatis_functions, create_maps\n",
    "\n",
    "# optionally use bounding box as a mask\n",
    "# bbox = shapely.from_wkt(\"POLYGON((-97.748244 30.278771, -97.736805 30.278771, -97.736805 30.267221, -97.748244 30.267221, -97.748244 30.278771))\")\n",
    "# bbox = shapely.from_wkt(\"POLYGON((-97.729976 30.258163, -97.718538 30.258163, -97.718538 30.246611, -97.729976 30.246611, -97.729976 30.258163))\")\n",
    "bbox = None"
   ]
  },
  {
   "cell_type": "markdown",
   "id": "110318ca",
   "metadata": {},
   "source": [
    "## Writes all downloaded GeoJSON Files to GPKG for viewing in QGIS"
   ]
  },
  {
   "cell_type": "code",
   "execution_count": 8,
   "id": "5b80220e",
   "metadata": {},
   "outputs": [
    {
     "name": "stdout",
     "output_type": "stream",
     "text": [
      "Completed_Sidewalks_2021_09_30_20250825 layer already exists\n",
      "Flashing Beacons_20250825 layer already exists\n",
      "Roadway Sign Assets_20250825 layer already exists\n",
      "Sidewalks_20250825 layer already exists\n",
      "Traffic Signals and Pedestrian Signals_20250825 layer already exists\n",
      "TRANSPORTATION.markings_short_line_20250825 layer already exists\n",
      "TRANSPORTATION_asmp_street_network_20250825 layer already exists\n",
      "TRANSPORTATION_bicycle_facilities_20250825 layer already exists\n",
      "TRANSPORTATION_curb_ramps layer already exists\n",
      "TRANSPORTATION_markings_specialty_line_20250825 layer already exists\n",
      "TRANSPORTATION_markings_specialty_point_20250825 layer already exists\n",
      "TRANSPORTATION_urban_trails_network_20250825 layer already exists\n"
     ]
    }
   ],
   "source": [
    "# re-write all geojson to gpkg for efficiency\n",
    "austin_layers = list(Path.cwd().glob('data/*'))\n",
    "for layer in austin_layers:\n",
    "    if layer.suffix != '.geojson':\n",
    "        continue\n",
    "    if layer.name.split(layer.suffix)[0] in gpd.list_layers(\"data/austin_all_data.gpkg\")['name'].tolist():\n",
    "        print(f\"{layer.name.split(layer.suffix)[0]} layer already exists\")\n",
    "        continue\n",
    "    print(\"writing layer:\", layer.name)\n",
    "    gdf = gpd.read_file(layer)\n",
    "    gdf.to_file(\"data/austin_all_data.gpkg\", layer=layer.name.split('.geojson')[0], driver=\"GPKG\")"
   ]
  },
  {
   "cell_type": "markdown",
   "id": "968bb041",
   "metadata": {},
   "source": [
    "## GATIS Template"
   ]
  },
  {
   "cell_type": "markdown",
   "id": "602ed525",
   "metadata": {},
   "source": [
    "The GATIS template can be used to create a DataFrame/Table of the required/recommended fields at any particular Tier level. If desired, you can also decide to include optional fields. For this demonstration, we'll bring in the Tier 4 template so that we have all fields."
   ]
  },
  {
   "cell_type": "code",
   "execution_count": 10,
   "id": "f06322cb",
   "metadata": {},
   "outputs": [],
   "source": [
    "# import tier 4 GATIS template so that all of the possible attributes are in there\n",
    "gatis_template_url = \"https://raw.githubusercontent.com/dotbts/BPA/main/draft_gatis_specification/templates/tier_4_and_optional\"\n",
    "gatis_edges_geojson = requests.get(gatis_template_url + \"/edges.geojson\").json()\n",
    "gatis_nodes_geojson = requests.get(gatis_template_url + \"/nodes.geojson\").json()\n",
    "\n",
    "# use these lists to append the converted gatis data to\n",
    "all_gatis_edges = []\n",
    "all_gatis_nodes = []"
   ]
  },
  {
   "cell_type": "markdown",
   "id": "05e5c8d4",
   "metadata": {},
   "source": [
    "# Converting each layer to GATIS\n",
    "The cells below show how each layer was converted to GATIS format. We went through the available attributes in each layer to see which ones could be mapped to a GATIS attribute value.\n",
    "\n",
    "Generally, the process is as follows:\n",
    "- Import source data\n",
    "- Clean data and remove features not needed in GATIS (highways, private roads, etc.)\n",
    "- Create a GATIS dataframe with the sample number of rows that has the GATIS attributes\n",
    "    - Choose what feature type and/or subfeature type it should be (GATIS nodes/edges + GATIS curb_ramp/bikeway/etc.)\n",
    "    - See the [GATIS Explorer Feature Type](https://dotbts.github.io/BPA/gatis_explorer/pages/feature_types.html) page for more information on the possible options\n",
    "- Fill in the GATIS dataframe with remapped data from the source data\n",
    "- Topology corrections (if needed)\n",
    "- Export data\n",
    "- Optionally, create leaflet maps for viewing in a web browser"
   ]
  },
  {
   "cell_type": "markdown",
   "id": "47ffcf04",
   "metadata": {},
   "source": [
    "## Curb Ramps"
   ]
  },
  {
   "cell_type": "markdown",
   "id": "7ef8544b",
   "metadata": {},
   "source": [
    "| Name | Note |\n",
    "| - | - |\n",
    "| OBJECTID | dropped |\n",
    "| CURB_RAMPS_ID | **added to reference_ids** |\n",
    "| CREATED_BY | dropped |\n",
    "| CREATED_DATE | dropped |\n",
    "| MODIFIED_BY | dropped |\n",
    "| MODIFIED_DATE | dropped |\n",
    "| CURB_RAMP_TYPE | **added to ramp_type** |\n",
    "| ADDRESS_DESCRIPTION | dropped |\n",
    "| RATING | dropped |\n",
    "| ASSESSMENT_DATE | **added to check_date** |\n",
    "| CURB_RAMP_ADA_TYPE | **potential to add to curb_type/presence/ramp_type** |\n",
    "| DETECTABLE_WARNING | **add to detectable_warning** | \n",
    "| POINT_X | dropped |\n",
    "| POINT_Y | dropped |\n",
    "| YEAR_BUILT | dropped, used data_construction_completed instead |\n",
    "| PROJECT_STATUS | dropped |\n",
    "| SUB_PROJECT_ID | dropped |\n",
    "| FUND_DEPARTMENT_UNIT | dropped |\n",
    "| SOURCE_OF_FUNDING | dropped |\n",
    "| CONTRACT | dropped |\n",
    "| WORK_ASSIGNMENT | dropped |\n",
    "| ASSIGNED_FOR_CONSTRUCTION_DATE | dropped |\n",
    "| CONSTRUCTION_START | dropped |\n",
    "| DATE_CONSTRUCTION_COMPLETED | **added to date_built** |\n",
    "| NOTES | dropped |\n",
    "| MXADDRESSCODE | dropped |\n",
    "| MXLOCATION | dropped |\n",
    "| STATUS | **converted to status** |\n",
    "| GLOBALID | dropped |\n",
    "| ASSESSMENT_TYPE | dropped |\n",
    "| LEVERAGING | dropped |\n",
    "| CONSTRUCTION_MANAGER | dropped |\n",
    "| geometry | **kept as is** |"
   ]
  },
  {
   "cell_type": "code",
   "execution_count": 11,
   "id": "fc389140",
   "metadata": {},
   "outputs": [],
   "source": [
    "curb_ramps = gpd.read_file(\"data/austin_all_data.gpkg\", layer='TRANSPORTATION_curb_ramps', mask=bbox)\n",
    "\n",
    "# get the coded values from the arcgis feature layer\n",
    "curb_ramps_endpoint = \"https://services.arcgis.com/0L95CJ0VTaxqcmED/arcgis/rest/services/TRANSPORTATION_curb_ramps/FeatureServer/0\"\n",
    "metadata = utils.get_attribute_metadata(curb_ramps_endpoint)\n",
    "coded_values = {key:item.get('codedValues') for key,item in metadata.items() if item.get('codedValues') is not None}\n",
    "for key, codedValues in coded_values.items():\n",
    "    curb_ramps[key] = curb_ramps[key].map(codedValues).fillna(curb_ramps[key])\n",
    "\n",
    "# filter to only the columns we need\n",
    "keep_cols = [\n",
    "    \"CURB_RAMPS_ID\", \"CURB_RAMP_TYPE\", \"ASSESSMENT_DATE\",\n",
    "    \"CURB_RAMP_ADA_TYPE\", \"DETECTABLE_WARNING\", \"DATE_CONSTRUCTION_COMPLETED\",\n",
    "    \"STATUS\", 'geometry'\n",
    "]\n",
    "curb_ramps = curb_ramps[keep_cols].copy()\n",
    "\n",
    "# drop future ramps / never constructed\n",
    "curb_ramps = curb_ramps[(curb_ramps[\"STATUS\"].isin(['Never Constructed','Future']))==False].copy()\n",
    "\n",
    "# reset index\n",
    "curb_ramps.reset_index(drop=True,inplace=True)"
   ]
  },
  {
   "cell_type": "code",
   "execution_count": 12,
   "id": "5ace1bb8",
   "metadata": {},
   "outputs": [],
   "source": [
    "# create an empty gatis geodataframe with the same number of rows but with gatis columns\n",
    "gatis_curb_ramps = gatis_functions.geojson_to_geopandas(gatis_nodes_geojson,'node','curb_ramp')\n",
    "gatis_curb_ramps = gatis_functions.create_empty_gdf_like(gatis_curb_ramps,curb_ramps)"
   ]
  },
  {
   "cell_type": "code",
   "execution_count": 13,
   "id": "69234e65",
   "metadata": {},
   "outputs": [],
   "source": [
    "# reference_id helps capture the ID of the orginal data source\n",
    "# can be a list of dicts with multiple IDs but be sure to add a \"source\" field that's helpful \n",
    "# for tracing the data back to the original source\n",
    "# also optionally provide source_url if available\n",
    "reference_id = curb_ramps[[\"CURB_RAMPS_ID\"]].to_dict(orient='records')\n",
    "gatis_curb_ramps['reference_ids'] = [[{'source': 'austin', 'source_url': '',**item}] for item in reference_id]\n",
    "\n",
    "# grab the date built (use highest precision available up to day (don't include time))\n",
    "gatis_curb_ramps['date_built'] = curb_ramps[\"DATE_CONSTRUCTION_COMPLETED\"].apply(lambda x: pd.to_datetime(x).date().strftime(format=\"%Y-%m-%d\") if pd.notnull(x) else None)\n",
    "\n",
    "# get check_date\n",
    "gatis_curb_ramps['check_date'] = curb_ramps['ASSESSMENT_DATE'].apply(lambda x: pd.to_datetime(x).date().strftime(format=\"%Y-%m-%d\") if pd.notnull(x) else None)\n",
    "\n",
    "# mark absent curb ramps\n",
    "gatis_curb_ramps.loc[curb_ramps['CURB_RAMP_TYPE'] == 'ABSENT', 'presence'] = \"no\"\n",
    "\n",
    "# ramp_type\n",
    "gatis_curb_ramps.loc[curb_ramps['CURB_RAMP_TYPE']=='DIAGONAL','ramp_type'] = 'diagonal'\n",
    "# NOTE: some of these might actually be parallel\n",
    "gatis_curb_ramps.loc[curb_ramps['CURB_RAMP_TYPE']=='DIRECTIONAL','ramp_type'] = 'perpendicular'\n",
    "\n",
    "# NOTE: GATIS doesn't currenlty have a comprehensive list of ada curb ramp types (but may add in draft 2.0)\n",
    "# gatis_curb_ramps.loc[curb_ramps['ramp_type'].isnull() & curb_ramps['CURB_RAMP_ADA_TYPE'].notnull(), 'ramp_type'] = curb_ramps['CURB_RAMP_ADA_TYPE']\n",
    "\n",
    "# NOTE making the assumption that these are true\n",
    "def process_detectable_warning(x):\n",
    "    if pd.isnull(x):\n",
    "        return None\n",
    "    # x = x.upper()\n",
    "    if (x in ['NONE']) | (x is None):\n",
    "        return \"no\"\n",
    "    elif x in ['CONCRETE-SCORED']:\n",
    "        return \"tactile and not contrasted\"\n",
    "    elif x in ['BRICK','METAL_PLATE','BUTTONS']:\n",
    "        return \"tactile and contrasted\"\n",
    "    else:\n",
    "        return None\n",
    "gatis_curb_ramps['detectable_warning'] = curb_ramps[\"DETECTABLE_WARNING\"].apply(lambda x: process_detectable_warning(x))\n",
    "\n",
    "def process_status(x):\n",
    "    if isinstance(x,str):\n",
    "        if x in [\"Active\"]:\n",
    "            return \"open\"\n",
    "        elif x in [\"Under Construction\"]:\n",
    "            return \"under construction\"\n",
    "        elif x in [\"Inactive-Decommissioned\"]:\n",
    "            return None\n",
    "gatis_curb_ramps['status'] = curb_ramps[\"STATUS\"].apply(lambda x: process_status(x))"
   ]
  },
  {
   "cell_type": "code",
   "execution_count": 14,
   "id": "ca5ba9f0",
   "metadata": {},
   "outputs": [],
   "source": [
    "# clean up and add to list\n",
    "gatis_curb_ramps = gatis_curb_ramps.where(gatis_curb_ramps.notnull(), None)\n",
    "all_gatis_nodes.append(gatis_curb_ramps)"
   ]
  },
  {
   "cell_type": "markdown",
   "id": "39b04b04",
   "metadata": {},
   "source": [
    "## Streets"
   ]
  },
  {
   "cell_type": "markdown",
   "id": "adafdd84",
   "metadata": {},
   "source": [
    "| Name | Note |\n",
    "| - | - |\n",
    "| creationdate | drop |\n",
    "| mean_row | drop |\n",
    "| name | **add to street name** |\n",
    "| max_row | drop |\n",
    "| improvement | drop |\n",
    "| ped_popup | drop |\n",
    "| sif_xs_general | drop |\n",
    "| median_row | drop |\n",
    "| street_level | **keep to drop interstates** |\n",
    "| address_range | drop |\n",
    "| objectid | drop |\n",
    "| globalid | drop |\n",
    "| creator | drop |\n",
    "| bicycle_facility | **add to bikeway_type** |\n",
    "| editor | drop |\n",
    "| bicycle_popup | drop |\n",
    "| in_table | drop |\n",
    "| shape_length | drop |\n",
    "| editdate | drop |\n",
    "| rec_bicycle_facility | drop |\n",
    "| ex_xs_general | drop |\n",
    "| project_description | drop |\n",
    "| exist_lanes | **add to thru_lanes** |\n",
    "| asmp_street_network_id | **add to reference_ids** |\n",
    "| min_row | drop |\n",
    "| roadway_popup | drop but could contain some data that could apply to certain gatis fields |\n",
    "| assum_lanes_fut | drop |\n",
    "| remarks | drop |\n",
    "| priority_network | drop |\n",
    "| project_type_final | drop |\n",
    "| segment_limits | drop |\n",
    "| sort_order | drop |\n",
    "| required_row_alpha | drop |\n",
    "| council_district | drop |\n",
    "| geometry | **kept as is** |"
   ]
  },
  {
   "cell_type": "code",
   "execution_count": 15,
   "id": "37fe20bb",
   "metadata": {},
   "outputs": [],
   "source": [
    "# explode used to convert multilinestrings to linestrings\n",
    "streets = gpd.read_file(\"data/austin_all_data.gpkg\", layer='TRANSPORTATION_asmp_street_network_20250825', mask=bbox).explode()\n",
    "\n",
    "keep_cols = [\n",
    "    'name', 'bicycle_facility', 'street_level',\n",
    "    'exist_lanes', 'asmp_street_network_id', 'geometry'\n",
    "]\n",
    "streets = streets[keep_cols]\n",
    "\n",
    "# drop trails because they appear in a different dataset too\n",
    "streets = streets[streets['bicycle_facility'].isin(['Trail - Unpaved','Trail - Paved'])==False]\n",
    "\n",
    "# drop if no bicycle facility\n",
    "streets = streets[streets['bicycle_facility'].notna()]\n",
    "\n",
    "# remove if roads bikes are not allowed?\n",
    "# it looks like level=5 are the interstates/controlled access roads\n",
    "streets = streets[streets['street_level']!='5']\n",
    "\n",
    "streets.reset_index(drop=True,inplace=True)"
   ]
  },
  {
   "cell_type": "code",
   "execution_count": 16,
   "id": "e66e8d23",
   "metadata": {},
   "outputs": [],
   "source": [
    "# create empty gatis geodataframes with the same structure\n",
    "gatis_roads = gatis_functions.geojson_to_geopandas(gatis_edges_geojson,'edge','road')\n",
    "gatis_roads = gatis_functions.create_empty_gdf_like(gatis_roads,streets)"
   ]
  },
  {
   "cell_type": "code",
   "execution_count": 17,
   "id": "8ff83f03",
   "metadata": {},
   "outputs": [
    {
     "ename": "KeyError",
     "evalue": "\"['bikeway:left:directionality', 'bikeway:right:presence'] not in index\"",
     "output_type": "error",
     "traceback": [
      "\u001b[31m---------------------------------------------------------------------------\u001b[39m",
      "\u001b[31mKeyError\u001b[39m                                  Traceback (most recent call last)",
      "\u001b[36mCell\u001b[39m\u001b[36m \u001b[39m\u001b[32mIn[17]\u001b[39m\u001b[32m, line 47\u001b[39m\n\u001b[32m     45\u001b[39m re_map = streets.apply(\u001b[38;5;28;01mlambda\u001b[39;00m row: process_bicycle_facility(row),axis=\u001b[32m1\u001b[39m)\n\u001b[32m     46\u001b[39m re_map = pd.DataFrame.from_records(re_map)\n\u001b[32m---> \u001b[39m\u001b[32m47\u001b[39m gatis_roads[\u001b[38;5;28mlist\u001b[39m(re_map.columns)] = re_map.fillna(\u001b[43mgatis_roads\u001b[49m\u001b[43m[\u001b[49m\u001b[38;5;28;43mlist\u001b[39;49m\u001b[43m(\u001b[49m\u001b[43mre_map\u001b[49m\u001b[43m.\u001b[49m\u001b[43mcolumns\u001b[49m\u001b[43m)\u001b[49m\u001b[43m]\u001b[49m)\n\u001b[32m     49\u001b[39m \u001b[38;5;66;03m# convert int\u001b[39;00m\n\u001b[32m     50\u001b[39m \u001b[38;5;28;01mdef\u001b[39;00m\u001b[38;5;250m \u001b[39m\u001b[34mconvert_int\u001b[39m(x):\n",
      "\u001b[36mFile \u001b[39m\u001b[32mc:\\Users\\tanner.passmore.ctr\\AppData\\Local\\miniconda3\\envs\\gatis-sample-data\\Lib\\site-packages\\geopandas\\geodataframe.py:1896\u001b[39m, in \u001b[36mGeoDataFrame.__getitem__\u001b[39m\u001b[34m(self, key)\u001b[39m\n\u001b[32m   1890\u001b[39m \u001b[38;5;28;01mdef\u001b[39;00m\u001b[38;5;250m \u001b[39m\u001b[34m__getitem__\u001b[39m(\u001b[38;5;28mself\u001b[39m, key):\n\u001b[32m   1891\u001b[39m \u001b[38;5;250m    \u001b[39m\u001b[33;03m\"\"\"\u001b[39;00m\n\u001b[32m   1892\u001b[39m \u001b[33;03m    If the result is a column containing only 'geometry', return a\u001b[39;00m\n\u001b[32m   1893\u001b[39m \u001b[33;03m    GeoSeries. If it's a DataFrame with any columns of GeometryDtype,\u001b[39;00m\n\u001b[32m   1894\u001b[39m \u001b[33;03m    return a GeoDataFrame.\u001b[39;00m\n\u001b[32m   1895\u001b[39m \u001b[33;03m    \"\"\"\u001b[39;00m\n\u001b[32m-> \u001b[39m\u001b[32m1896\u001b[39m     result = \u001b[38;5;28;43msuper\u001b[39;49m\u001b[43m(\u001b[49m\u001b[43m)\u001b[49m\u001b[43m.\u001b[49m\u001b[34;43m__getitem__\u001b[39;49m\u001b[43m(\u001b[49m\u001b[43mkey\u001b[49m\u001b[43m)\u001b[49m\n\u001b[32m   1897\u001b[39m     \u001b[38;5;66;03m# Custom logic to avoid waiting for pandas GH51895\u001b[39;00m\n\u001b[32m   1898\u001b[39m     \u001b[38;5;66;03m# result is not geometry dtype for multi-indexes\u001b[39;00m\n\u001b[32m   1899\u001b[39m     \u001b[38;5;28;01mif\u001b[39;00m (\n\u001b[32m   1900\u001b[39m         pd.api.types.is_scalar(key)\n\u001b[32m   1901\u001b[39m         \u001b[38;5;129;01mand\u001b[39;00m key == \u001b[33m\"\u001b[39m\u001b[33m\"\u001b[39m\n\u001b[32m   (...)\u001b[39m\u001b[32m   1904\u001b[39m         \u001b[38;5;129;01mand\u001b[39;00m \u001b[38;5;129;01mnot\u001b[39;00m is_geometry_type(result)\n\u001b[32m   1905\u001b[39m     ):\n",
      "\u001b[36mFile \u001b[39m\u001b[32mc:\\Users\\tanner.passmore.ctr\\AppData\\Local\\miniconda3\\envs\\gatis-sample-data\\Lib\\site-packages\\pandas\\core\\frame.py:4113\u001b[39m, in \u001b[36mDataFrame.__getitem__\u001b[39m\u001b[34m(self, key)\u001b[39m\n\u001b[32m   4111\u001b[39m     \u001b[38;5;28;01mif\u001b[39;00m is_iterator(key):\n\u001b[32m   4112\u001b[39m         key = \u001b[38;5;28mlist\u001b[39m(key)\n\u001b[32m-> \u001b[39m\u001b[32m4113\u001b[39m     indexer = \u001b[38;5;28;43mself\u001b[39;49m\u001b[43m.\u001b[49m\u001b[43mcolumns\u001b[49m\u001b[43m.\u001b[49m\u001b[43m_get_indexer_strict\u001b[49m\u001b[43m(\u001b[49m\u001b[43mkey\u001b[49m\u001b[43m,\u001b[49m\u001b[43m \u001b[49m\u001b[33;43m\"\u001b[39;49m\u001b[33;43mcolumns\u001b[39;49m\u001b[33;43m\"\u001b[39;49m\u001b[43m)\u001b[49m[\u001b[32m1\u001b[39m]\n\u001b[32m   4115\u001b[39m \u001b[38;5;66;03m# take() does not accept boolean indexers\u001b[39;00m\n\u001b[32m   4116\u001b[39m \u001b[38;5;28;01mif\u001b[39;00m \u001b[38;5;28mgetattr\u001b[39m(indexer, \u001b[33m\"\u001b[39m\u001b[33mdtype\u001b[39m\u001b[33m\"\u001b[39m, \u001b[38;5;28;01mNone\u001b[39;00m) == \u001b[38;5;28mbool\u001b[39m:\n",
      "\u001b[36mFile \u001b[39m\u001b[32mc:\\Users\\tanner.passmore.ctr\\AppData\\Local\\miniconda3\\envs\\gatis-sample-data\\Lib\\site-packages\\pandas\\core\\indexes\\base.py:6212\u001b[39m, in \u001b[36mIndex._get_indexer_strict\u001b[39m\u001b[34m(self, key, axis_name)\u001b[39m\n\u001b[32m   6209\u001b[39m \u001b[38;5;28;01melse\u001b[39;00m:\n\u001b[32m   6210\u001b[39m     keyarr, indexer, new_indexer = \u001b[38;5;28mself\u001b[39m._reindex_non_unique(keyarr)\n\u001b[32m-> \u001b[39m\u001b[32m6212\u001b[39m \u001b[38;5;28;43mself\u001b[39;49m\u001b[43m.\u001b[49m\u001b[43m_raise_if_missing\u001b[49m\u001b[43m(\u001b[49m\u001b[43mkeyarr\u001b[49m\u001b[43m,\u001b[49m\u001b[43m \u001b[49m\u001b[43mindexer\u001b[49m\u001b[43m,\u001b[49m\u001b[43m \u001b[49m\u001b[43maxis_name\u001b[49m\u001b[43m)\u001b[49m\n\u001b[32m   6214\u001b[39m keyarr = \u001b[38;5;28mself\u001b[39m.take(indexer)\n\u001b[32m   6215\u001b[39m \u001b[38;5;28;01mif\u001b[39;00m \u001b[38;5;28misinstance\u001b[39m(key, Index):\n\u001b[32m   6216\u001b[39m     \u001b[38;5;66;03m# GH 42790 - Preserve name from an Index\u001b[39;00m\n",
      "\u001b[36mFile \u001b[39m\u001b[32mc:\\Users\\tanner.passmore.ctr\\AppData\\Local\\miniconda3\\envs\\gatis-sample-data\\Lib\\site-packages\\pandas\\core\\indexes\\base.py:6264\u001b[39m, in \u001b[36mIndex._raise_if_missing\u001b[39m\u001b[34m(self, key, indexer, axis_name)\u001b[39m\n\u001b[32m   6261\u001b[39m     \u001b[38;5;28;01mraise\u001b[39;00m \u001b[38;5;167;01mKeyError\u001b[39;00m(\u001b[33mf\u001b[39m\u001b[33m\"\u001b[39m\u001b[33mNone of [\u001b[39m\u001b[38;5;132;01m{\u001b[39;00mkey\u001b[38;5;132;01m}\u001b[39;00m\u001b[33m] are in the [\u001b[39m\u001b[38;5;132;01m{\u001b[39;00maxis_name\u001b[38;5;132;01m}\u001b[39;00m\u001b[33m]\u001b[39m\u001b[33m\"\u001b[39m)\n\u001b[32m   6263\u001b[39m not_found = \u001b[38;5;28mlist\u001b[39m(ensure_index(key)[missing_mask.nonzero()[\u001b[32m0\u001b[39m]].unique())\n\u001b[32m-> \u001b[39m\u001b[32m6264\u001b[39m \u001b[38;5;28;01mraise\u001b[39;00m \u001b[38;5;167;01mKeyError\u001b[39;00m(\u001b[33mf\u001b[39m\u001b[33m\"\u001b[39m\u001b[38;5;132;01m{\u001b[39;00mnot_found\u001b[38;5;132;01m}\u001b[39;00m\u001b[33m not in index\u001b[39m\u001b[33m\"\u001b[39m)\n",
      "\u001b[31mKeyError\u001b[39m: \"['bikeway:left:directionality', 'bikeway:right:presence'] not in index\""
     ]
    }
   ],
   "source": [
    "reference_id = streets[[\"asmp_street_network_id\"]].to_dict(orient='records')\n",
    "gatis_roads['reference_ids'] = [[{'source': 'austin',**item}] for item in reference_id]\n",
    "\n",
    "# aligning these to NBN definitions\n",
    "# NOTE need to check orientation of the bike lane with parking\n",
    "convert_dict = {\n",
    "    # 'Shared Lane', these are good as is\n",
    "    # 'Bike Lane', \n",
    "    'Wide Shoulder': \"Paved Shoulder\",\n",
    "    'Wide Curb Lane': \"Shared Lane\", \n",
    "    'Bike Lane - wParking': \"Bike Lane\", \n",
    "    'Shoulder': \"Paved Shoulder\",\n",
    "    'Protected Bike Lane': \"Separated Bike Lane\", \n",
    "    'Bike Lane - Buffered': \"Buffered Bike Lane\", \n",
    "    'Sharrows': \"Shared Lane\",\n",
    "    'Neighborhood Bikeway': \"Shared Lane\", \n",
    "    'Bike Lane-Protected 2': \"Separated Bike Lane\",\n",
    "    'Bike Ramp to Sidewalk': \"\", \n",
    "    'Bike Lane - Climbing': \"Bike Lane\", \n",
    "    'Trail - Unpaved': None,\n",
    "    'Trail - Paved': None, \n",
    "    'Bike Lane-Protected 1': \"Separated Bike Lane\", \n",
    "    'Bridge': None\n",
    "}\n",
    "\n",
    "gatis_roads.loc[:,\"bikeway:left:bikeway_type\"] = streets['bicycle_facility'].map(convert_dict)\n",
    "gatis_roads.loc[:,\"bikeway:right:bikeway_type\"] = streets['bicycle_facility'].map(convert_dict)\n",
    "\n",
    "# populuate other relevant fields\n",
    "gatis_roads.loc[streets['bicycle_facility'] == 'Bridge','bridge'] = \"yes\"\n",
    "\n",
    "# correct for facilities that are only on one side of the road\n",
    "def process_bicycle_facility(row):\n",
    "    update_dict = {}\n",
    "    if row['bicycle_facility'] in ['Bike Lane-Protected 2']:\n",
    "        #NOTE I'm just using the \"left\" as a demonstration, the actual data be \"right\"\n",
    "        update_dict['bikeway:left:directionality'] = \"both\"\n",
    "        # clear out the bicycle facility on the right\n",
    "        update_dict['bikeway:right:bikeway_type'] = None\n",
    "        update_dict['bikeway:right:presence'] = \"no\"\n",
    "    elif row['bicycle_facility'] in [\"Bike Lane - Climbing\"]:\n",
    "        update_dict['bikeway:right:bikeway_type'] = None\n",
    "        update_dict['bikeway:right:presence'] = \"no\"\n",
    "    return update_dict\n",
    "re_map = streets.apply(lambda row: process_bicycle_facility(row),axis=1)\n",
    "re_map = pd.DataFrame.from_records(re_map)\n",
    "gatis_roads[list(re_map.columns)] = re_map.fillna(gatis_roads[list(re_map.columns)])\n",
    "\n",
    "# convert int\n",
    "def convert_int(x):\n",
    "    try:\n",
    "        return int(x)\n",
    "    except:\n",
    "        return None\n",
    "gatis_roads['thru_lanes'] = streets['exist_lanes'].apply(lambda x: convert_int(x))"
   ]
  },
  {
   "cell_type": "code",
   "execution_count": null,
   "id": "d643bf4b",
   "metadata": {},
   "outputs": [],
   "source": [
    "# replace all NaNs with None\n",
    "gatis_roads = gatis_roads.where(gatis_roads.notnull(), None)\n",
    "all_gatis_edges.append(gatis_roads)"
   ]
  },
  {
   "cell_type": "markdown",
   "id": "abe97bf8",
   "metadata": {},
   "source": [
    "## Crosswalks\n"
   ]
  },
  {
   "cell_type": "markdown",
   "id": "f27c5cda",
   "metadata": {},
   "source": [
    "\n",
    "| Name | Note |\n",
    "| - | - |\n",
    "| school | drop |\n",
    "| created_by | drop |\n",
    "| intersection_id | drop |\n",
    "| created_date | drop |\n",
    "| subtype | keep |\n",
    "| marking_size | drop |\n",
    "| description | drop |\n",
    "| segment_id | drop, not unique |\n",
    "| alternate_id | drop |\n",
    "| school_desc | drop |\n",
    "| direction | drop |\n",
    "| asset_condition | drop |\n",
    "| color | drop |\n",
    "| objectid | drop |\n",
    "| globalid | drop |\n",
    "| short_line_type | **keep to filter for just crosswalks** |\n",
    "| location_status | **add to status** |\n",
    "| other_area | drop |\n",
    "| last_work_date | **add to check_date** |\n",
    "| shape_length | drop |\n",
    "| modified_by | drop |\n",
    "| marking_text_note | drop |\n",
    "| crew_assigned | drop |\n",
    "| material | drop |\n",
    "| school_name | drop |\n",
    "| markings_short_line_id | **add to reference_ids** |\n",
    "| cbd | drop  |\n",
    "| hin | drop |\n",
    "| signal_intersection | **add to vehicle_traffic_control** |\n",
    "| modified_date | drop |\n",
    "| school_zone_id | drop |\n",
    "| number_of_assets | drop |\n",
    "| comments | drop |\n",
    "| geometry | **kept as is** |"
   ]
  },
  {
   "cell_type": "code",
   "execution_count": null,
   "id": "c1d535fa",
   "metadata": {},
   "outputs": [],
   "source": [
    "crosswalks = gpd.read_file(\"data/austin_all_data.gpkg\", layer='TRANSPORTATION.markings_short_line_20250825', mask=bbox).explode()\n",
    "\n",
    "keep_cols = [\n",
    "    'subtype','short_line_type','location_status',\n",
    "    'last_work_date','markings_short_line_id','signal_intersection',\n",
    "    'geometry'\n",
    "    ]\n",
    "crosswalks = crosswalks[keep_cols]\n",
    "\n",
    "# only keep crosswalks\n",
    "crosswalks = crosswalks[crosswalks['short_line_type'] == 'CROSSWALK']\n",
    "\n",
    "# only keep active\n",
    "crosswalks = crosswalks[crosswalks['location_status'] == 'ACTIVE']\n",
    "\n",
    "crosswalks.reset_index(drop=True,inplace=True)"
   ]
  },
  {
   "cell_type": "code",
   "execution_count": null,
   "id": "e58ae1b9",
   "metadata": {},
   "outputs": [],
   "source": [
    "# create empty gatis geodataframes with the same structure\n",
    "gatis_crosswalks = gatis_functions.geojson_to_geopandas(gatis_edges_geojson,'edge','crossing')\n",
    "gatis_crosswalks = gatis_functions.create_empty_gdf_like(gatis_crosswalks,crosswalks)"
   ]
  },
  {
   "cell_type": "code",
   "execution_count": null,
   "id": "c6c5d099",
   "metadata": {},
   "outputs": [],
   "source": [
    "# OR put in a status column with open, under construction\n",
    "reference_id = crosswalks[['markings_short_line_id']].to_dict(orient='records')\n",
    "gatis_crosswalks['reference_ids'] = [[{'source': 'austin', 'source_url': '',**item}] for item in reference_id]\n",
    "\n",
    "# converting this to the GATIS compliant format\n",
    "gatis_crosswalks['check_date'] = crosswalks['last_work_date'].dt.strftime(date_format=\"%Y-%m-%d\")\n",
    "\n",
    "# these match up to GATIS\n",
    "gatis_crosswalks['visual_markings'] = crosswalks['subtype'].str.lower()\n",
    "\n",
    "gatis_crosswalks.loc[crosswalks['signal_intersection']=='Y',['vehicle_traffic_control','cross_vehicle_traffic_control','ped_traffic_control']] = 'standard signal'"
   ]
  },
  {
   "cell_type": "code",
   "execution_count": null,
   "id": "32394bdb",
   "metadata": {},
   "outputs": [],
   "source": [
    "# replace all NaNs with None\n",
    "gatis_crosswalks = gatis_crosswalks.where(gatis_crosswalks.notnull(), None)\n",
    "all_gatis_edges.append(gatis_crosswalks)"
   ]
  },
  {
   "cell_type": "markdown",
   "id": "9f1565cc",
   "metadata": {},
   "source": [
    "## Multi-Use Paths and Trails"
   ]
  },
  {
   "cell_type": "markdown",
   "id": "f4a42057",
   "metadata": {},
   "source": [
    "| Name | Note |\n",
    "|---|---|\n",
    "| urban_trail_system_name | **add to facility_name** |\n",
    "| created_by | drop |\n",
    "| urban_trail_name | drop |\n",
    "| urban_trail_network_id | **add to reference_ids** |\n",
    "| location | drop |\n",
    "| phase_simple | **add to status** |\n",
    "| created_date | drop, looks different than year_open |\n",
    "| construction_manager | drop |\n",
    "| year_open | **add to build_date** |\n",
    "| length_miles | drop |\n",
    "| objectid | drop |\n",
    "| county | drop |\n",
    "| build_status | drop, use phase_simple |\n",
    "| shape_length | drop |\n",
    "| modified_by | drop |\n",
    "| urban_trail_feature | **keep, use to separate out features and populate the bridge field** |\n",
    "| project_sponsor | drop |\n",
    "| managing_agency_name | drop |\n",
    "| priority_2023utp | drop |\n",
    "| trail_surface_type | **add to surface** |\n",
    "| agency_type | drop |\n",
    "| width | **add to width** |\n",
    "| modified_date | drop |\n",
    "| city_municipal | drop |\n",
    "| urban_trail_type | **kee to drop shared laens and separated bike lanes (duplicative)** |\n",
    "| geometry | **kept as is** |"
   ]
  },
  {
   "cell_type": "code",
   "execution_count": null,
   "id": "ebd3e13a",
   "metadata": {},
   "outputs": [],
   "source": [
    "mups = gpd.read_file(\"data/austin_all_data.gpkg\", layer='TRANSPORTATION_urban_trails_network_20250825', mask=bbox).explode()\n",
    "keep_cols = [\n",
    "    \"urban_trail_system_name\", \"urban_trail_network_id\", \"phase_simple\",\n",
    "    \"year_open\", \"urban_trail_feature\", \"trail_surface_type\", \"width\",\n",
    "    \"urban_trail_type\", \"geometry\"\n",
    "]\n",
    "mups = mups[keep_cols]\n",
    "\n",
    "# drop potenial mups\n",
    "mups = mups[mups['phase_simple'] != 'Potential'].copy()\n",
    "\n",
    "# separate steps\n",
    "steps = mups[mups['urban_trail_feature']=='Stairs']\n",
    "mups = mups[mups['urban_trail_feature']!='Stairs']\n",
    "\n",
    "# NOTE there are crossings present in mups that should be added to gatis_crossings\n",
    "additional_crossings = mups[mups['urban_trail_feature']=='Crossing']\n",
    "mups = mups[mups['urban_trail_feature']!='Crossing']\n",
    "\n",
    "# drop shared lanes / protected bike lane because these are likely already in the streets file\n",
    "# NOTE: need confirmation on this\n",
    "mups = mups[mups['urban_trail_type'].isin(['On-Street – Protected Bike Lane', 'On-Street - Shared Lane'])==False]\n",
    "\n",
    "\n",
    "mups.reset_index(drop=True,inplace=True)\n",
    "additional_crossings.reset_index(drop=True,inplace=True)\n",
    "steps.reset_index(drop=True,inplace=True)"
   ]
  },
  {
   "cell_type": "code",
   "execution_count": null,
   "id": "31093a64",
   "metadata": {},
   "outputs": [],
   "source": [
    "# create empty gatis geodataframes with the same structure\n",
    "gatis_mups = gatis_functions.geojson_to_geopandas(gatis_edges_geojson,'edge','multi_use_path')\n",
    "gatis_mups = gatis_functions.create_empty_gdf_like(gatis_mups,mups)\n",
    "\n",
    "gatis_additional_crossings = gatis_functions.geojson_to_geopandas(gatis_edges_geojson,'edge','crossing')\n",
    "gatis_additional_crossings = gatis_functions.create_empty_gdf_like(gatis_additional_crossings,additional_crossings)\n",
    "\n",
    "gatis_steps = gatis_functions.geojson_to_geopandas(gatis_edges_geojson, \"edge\", \"steps\")\n",
    "gatis_steps = gatis_functions.create_empty_gdf_like(gatis_steps,steps)"
   ]
  },
  {
   "cell_type": "code",
   "execution_count": null,
   "id": "a03b9fb2",
   "metadata": {},
   "outputs": [],
   "source": [
    "# add surface_material (needed minimal processing)\n",
    "remap_surfaces = {\n",
    "    \"stalock\": \"other\",\n",
    "    \"boards-woods\": \"other\",\n",
    "    \"crushed_stone\": \"gravel\"\n",
    "}\n",
    "gatis_mups['surface_material'] = mups[\"trail_surface_type\"].str.lower().map(remap_surfaces)\n",
    "gatis_additional_crossings['surface_material'] = additional_crossings[\"trail_surface_type\"].str.lower().map(remap_surfaces)\n",
    "gatis_steps['surface_material'] = steps[\"trail_surface_type\"].str.lower().map(remap_surfaces)\n",
    "\n",
    "# add facility name\n",
    "gatis_mups['facility_name'] = mups[\"urban_trail_system_name\"]\n",
    "gatis_additional_crossings['facility_name'] = additional_crossings[\"urban_trail_system_name\"]\n",
    "gatis_steps['facility_name'] = steps[\"urban_trail_system_name\"]\n",
    "\n",
    "# add reference_ids\n",
    "reference_id = mups[['urban_trail_network_id']].to_dict(orient='records')\n",
    "gatis_mups['reference_ids'] = [[{'source': 'austin',**item}] for item in reference_id]\n",
    "reference_id = additional_crossings[['urban_trail_network_id']].to_dict(orient='records')\n",
    "gatis_additional_crossings['reference_ids'] = [[{'source': 'austin',**item}] for item in reference_id]\n",
    "reference_id = steps[['urban_trail_network_id']].to_dict(orient='records')\n",
    "gatis_steps['reference_ids'] = [[{'source': 'austin',**item}] for item in reference_id]\n",
    "\n",
    "# add status\n",
    "def process_phase_simple(x):\n",
    "    if x in [\"Existing\",\"Active\"]:\n",
    "        return \"open\"\n",
    "    elif x in [\"Construction\"]:\n",
    "        return \"under construction\"\n",
    "    else:\n",
    "        return \"unknown\"\n",
    "gatis_mups['status'] = mups[\"phase_simple\"].apply(lambda x: process_phase_simple(x))\n",
    "gatis_additional_crossings['status'] = additional_crossings[\"phase_simple\"].apply(lambda x: process_phase_simple(x))\n",
    "gatis_steps['status'] = steps[\"phase_simple\"].apply(lambda x: process_phase_simple(x))\n",
    "\n",
    "# date_built\n",
    "gatis_mups['date_built'] = mups[\"year_open\"]\n",
    "gatis_additional_crossings['date_built'] = additional_crossings[\"year_open\"]\n",
    "gatis_steps['date_built'] = steps[\"year_open\"]\n",
    "\n",
    "# add bridge\n",
    "gatis_mups.loc[mups['urban_trail_feature']=='Bridge','bridge'] = 'yes'\n",
    "gatis_additional_crossings.loc[additional_crossings['urban_trail_feature']=='Bridge','bridge'] = 'yes'\n",
    "gatis_steps.loc[steps['urban_trail_feature']=='Bridge','bridge'] = steps[\"urban_trail_feature\"]\n",
    "\n",
    "# add width (and convert to inches)\n",
    "gatis_mups['width'] = pd.to_numeric(mups['width']) * 12\n",
    "gatis_additional_crossings['width'] = pd.to_numeric(additional_crossings['width']) * 12\n",
    "gatis_steps['width'] = pd.to_numeric(steps['width']) * 12"
   ]
  },
  {
   "cell_type": "code",
   "execution_count": null,
   "id": "013c23f6",
   "metadata": {},
   "outputs": [],
   "source": [
    "gatis_mups = gatis_mups.where(gatis_mups.notnull(), None)\n",
    "all_gatis_edges.append(gatis_mups)\n",
    "gatis_additional_crossings = gatis_additional_crossings.where(gatis_additional_crossings.notnull(), None)\n",
    "all_gatis_edges.append(gatis_additional_crossings)\n",
    "gatis_steps = gatis_steps.where(gatis_steps.notnull(), None)\n",
    "all_gatis_edges.append(gatis_steps)"
   ]
  },
  {
   "cell_type": "markdown",
   "id": "3872a22f",
   "metadata": {},
   "source": [
    "## Sidewalks"
   ]
  },
  {
   "cell_type": "markdown",
   "id": "627988ae",
   "metadata": {},
   "source": [
    "| Name | Keep |\n",
    "| - | - |\n",
    "| rating_curbramp_id | drop |\n",
    "| project_manager | drop |\n",
    "| created_by | drop |\n",
    "| public_works_id | drop |\n",
    "| functional_improve_cut | drop |\n",
    "| work_assignment | drop |\n",
    "| zipcode | drop |\n",
    "| sub_project_id | drop |\n",
    "| sidewalks_id | keep |\n",
    "| functional_improve_lift | drop |\n",
    "| year_built | keep |\n",
    "| width_sidewalk | **add to width** |\n",
    "| created_date | drop |\n",
    "| construction_constraint | drop |\n",
    "| construction_manager | drop |\n",
    "| mxaddresscode | drop |\n",
    "| managing_agency | drop |\n",
    "| urban_trail_network | drop |\n",
    "| leveraging | drop |\n",
    "| assessment_type | drop |\n",
    "| assigned_for_construction_date | drop |\n",
    "| mobility_annual_plan | drop |\n",
    "| pedestrian_facility_type | **keep to remove shared use paths (duplicative)** |\n",
    "| rating_overall | drop |\n",
    "| sidewalk_surface | **add to surface** |\n",
    "| objectid | drop |\n",
    "| globalid | drop |\n",
    "| construction_start | drop |\n",
    "| rating_curbramp | drop |\n",
    "| full_street_name | drop |\n",
    "| shape_length | drop |\n",
    "| modified_by | drop |\n",
    "| rating_no_veg | drop |\n",
    "| assessment_date | **add to check_date** |\n",
    "| status | drop |\n",
    "| date_construction_completed | **add to build_date** |\n",
    "| planning_status_rehab | drop |\n",
    "| address_description | drop |\n",
    "| service_plan_note | drop |\n",
    "| ada_year_route_checked | drop, almost sounds like an ADA assessment date? |\n",
    "| planning_status | drop |\n",
    "| notes | drop |\n",
    "| created_user | drop |\n",
    "| last_edited_date | drop |\n",
    "| back_of_curb | drop |\n",
    "| rating_final | drop |\n",
    "| stamped_finish | drop |\n",
    "| width | drop |\n",
    "| modified_date | drop |\n",
    "| core_sw_network | drop |\n",
    "| last_edited_user | drop |\n",
    "| fund_department_unit | drop |\n",
    "| colored_finish | drop |\n",
    "| functional_improve_grind | drop |\n",
    "| mapsco | drop |\n",
    "| contract | drop |\n",
    "| sidewalk_segments_length | keep |\n",
    "| council_district | drop |\n",
    "| functional_condition | drop |\n",
    "| mxlocation | drop |\n",
    "| functional_improve_rehab | drop |\n",
    "| geometry | **kept as is** |"
   ]
  },
  {
   "cell_type": "code",
   "execution_count": null,
   "id": "52b76f92",
   "metadata": {},
   "outputs": [],
   "source": [
    "sidewalks = gpd.read_file(\"data/austin_all_data.gpkg\", layer='Sidewalks_20250825', mask=bbox).explode()\n",
    "keep_cols = [\n",
    "    \"sidewalks_id\", \"year_built\", \"width_sidewalk\",\n",
    "    \"pedestrian_facility_type\", \"sidewalk_surface\", \"assessment_date\",\n",
    "    \"date_construction_completed\", \"geometry\"\n",
    "]\n",
    "\n",
    "# only keep existing_sidewalk and driveway\n",
    "# NOTE some of the different types like SHARED_STREET look like pedestrian lanes\n",
    "sidewalks = sidewalks[sidewalks['pedestrian_facility_type'].isin(['EXISTING_SIDEWALK','DRIVEWAY'])]\n",
    "\n",
    "sidewalks.reset_index(drop=True,inplace=True)"
   ]
  },
  {
   "cell_type": "code",
   "execution_count": null,
   "id": "134a155c",
   "metadata": {},
   "outputs": [],
   "source": [
    "# create empty gatis geodataframes with the same structure\n",
    "gatis_sidewalks = gatis_functions.geojson_to_geopandas(gatis_edges_geojson,'edge','sidewalk')\n",
    "gatis_sidewalks = gatis_functions.create_empty_gdf_like(gatis_sidewalks,sidewalks)"
   ]
  },
  {
   "cell_type": "code",
   "execution_count": null,
   "id": "16aef7ba",
   "metadata": {},
   "outputs": [],
   "source": [
    "# add reference_ids\n",
    "reference_id = sidewalks[['sidewalks_id']].to_dict(orient='records')\n",
    "gatis_sidewalks['reference_ids'] = [[{'source': 'austin',\n",
    "**item}] for item in reference_id]\n",
    "\n",
    "# add street_name\n",
    "gatis_sidewalks['street_name'] = sidewalks['full_street_name']\n",
    "\n",
    "# add width\n",
    "gatis_sidewalks['width'] = (pd.to_numeric(sidewalks['width']) * 12)\n",
    "\n",
    "# add surface_material\n",
    "convert_sidewalk_surface = {\n",
    "    'CONCRETE': 'concrete',\n",
    "    'EXPOSED_AGGREGATE': 'concrete',\n",
    "    'COLORED': 'other',\n",
    "    'ASPHALT': 'asphalt',\n",
    "    'PAVER-BRICK': 'paving_stones',\n",
    "    'PAVER-GRANITE':'paving_stones',\n",
    "    'EXPERIMENTAL': 'other',\n",
    "    'PAVER-SANDSTONE': 'paving_stones',\n",
    "    'CRUSHED_STONE': 'gravel',\n",
    "    'PAVER-CONCRETE': 'paving_stones',\n",
    "    'STAMPED': 'other',\n",
    "    'PLASTIC_PANEL': 'other',\n",
    "    'PERVIOUS_CONCRETE': 'concrete',\n",
    "    'RUBBERIZED': 'other'\n",
    "}\n",
    "gatis_sidewalks['surface_material'] = sidewalks['sidewalk_surface'].map(convert_sidewalk_surface)\n",
    "\n",
    "# get length\n",
    "# convert string to number\n",
    "gatis_sidewalks['measured_length'] = sidewalks['sidewalk_segments_length'].astype(float)\n",
    "\n",
    "# get year built\n",
    "gatis_sidewalks.loc[sidewalks['year_built']!='0','date_built'] = sidewalks['year_built']\n",
    "\n",
    "# get check_date\n",
    "gatis_sidewalks['check_date'] = sidewalks['assessment_date'].dt.strftime(date_format=\"%Y-%m-%d\")"
   ]
  },
  {
   "cell_type": "code",
   "execution_count": null,
   "id": "00985a1e",
   "metadata": {},
   "outputs": [],
   "source": [
    "gatis_sidewalks = gatis_sidewalks.where(gatis_sidewalks.notnull(), None)\n",
    "all_gatis_edges.append(gatis_sidewalks)"
   ]
  },
  {
   "cell_type": "markdown",
   "id": "d8163dca",
   "metadata": {},
   "source": [
    "## Combine GeoDataFrames"
   ]
  },
  {
   "cell_type": "code",
   "execution_count": null,
   "id": "e2ce79ef",
   "metadata": {},
   "outputs": [
    {
     "name": "stderr",
     "output_type": "stream",
     "text": [
      "C:\\Users\\tanner.passmore.ctr\\AppData\\Local\\Temp\\ipykernel_19128\\2865998625.py:1: FutureWarning: The behavior of DataFrame concatenation with empty or all-NA entries is deprecated. In a future version, this will no longer exclude empty or all-NA columns when determining the result dtypes. To retain the old behavior, exclude the relevant entries before the concat operation.\n",
      "  gatis_edges_gdf = pd.concat(all_gatis_edges,axis=0)\n"
     ]
    }
   ],
   "source": [
    "gatis_edges_gdf = pd.concat(all_gatis_edges,axis=0)\n",
    "gatis_nodes_gdf = pd.concat(all_gatis_nodes,axis=0)\n",
    "\n",
    "# reset index\n",
    "gatis_edges_gdf.reset_index(drop=True,inplace=True)\n",
    "gatis_nodes_gdf.reset_index(drop=True,inplace=True)\n",
    "\n",
    "# temp ids\n",
    "gatis_edges_gdf['edge_id'] = [str(x) for x in range(0,gatis_edges_gdf.shape[0])]\n",
    "gatis_nodes_gdf['node_id'] = [str(x) for x in range(0,gatis_nodes_gdf.shape[0])]"
   ]
  },
  {
   "cell_type": "markdown",
   "id": "590de809",
   "metadata": {},
   "source": [
    "## Topology Correction\n",
    "Ideally, GIS data will already be topologicaly correct, if it's not then sometimes topology correction can be used. The following cells join sidewalks, curb ramps, and crosswalks where it makes sense. Some additional processing would be needed to join the topologically correct the other features."
   ]
  },
  {
   "cell_type": "markdown",
   "id": "d05d3196",
   "metadata": {},
   "source": [
    "### Join curb ramps nodes to all crossings endpoints within 0.0001 decimal degress with a virtual link"
   ]
  },
  {
   "cell_type": "code",
   "execution_count": null,
   "id": "7d251f50",
   "metadata": {},
   "outputs": [],
   "source": [
    "crossings = gatis_edges_gdf[gatis_edges_gdf['edge_type']=='crossing']"
   ]
  },
  {
   "cell_type": "code",
   "execution_count": null,
   "id": "364b8bac",
   "metadata": {},
   "outputs": [
    {
     "name": "stderr",
     "output_type": "stream",
     "text": [
      "C:\\Users\\tanner.passmore.ctr\\AppData\\Local\\Temp\\ipykernel_19128\\852272495.py:17: UserWarning: Geometry is in a geographic CRS. Results from 'buffer' are likely incorrect. Use 'GeoSeries.to_crs()' to re-project geometries to a projected CRS before this operation.\n",
      "\n",
      "  crossing_endpoints['buffer_geometry'] = crossing_endpoints['geometry'].buffer(0.0001)#.map(lambda x: Point(x).buffer(0.0001))\n",
      "C:\\Users\\tanner.passmore.ctr\\AppData\\Local\\Temp\\ipykernel_19128\\852272495.py:27: UserWarning: Geometry is in a geographic CRS. Results from 'distance' are likely incorrect. Use 'GeoSeries.to_crs()' to re-project geometries to a projected CRS before this operation.\n",
      "\n",
      "  overlay['distance'] = gpd.GeoSeries(overlay['geometry_edge'],crs='epsg:4326').distance(gpd.GeoSeries(overlay['geometry_node'],crs='epsg:4326'))\n"
     ]
    }
   ],
   "source": [
    "# extract curb ramp nodes\n",
    "curb_ramps = gatis_nodes_gdf[gatis_nodes_gdf['node_type']=='curb_ramp']\n",
    "\n",
    "# extract crossing endpoints\n",
    "def extract_endpoint(geom,idx):\n",
    "    if geom.geom_type != 'LineString':\n",
    "        raise Exception(\"Invalid geometry:\",geom.geom_type)\n",
    "    return geom.coords[idx]\n",
    "crossing_endpoints_1 = gpd.GeoDataFrame({'edge_id':crossings['edge_id'],'geometry':crossings['geometry'].apply(lambda geom: Point(extract_endpoint(geom,0)))},crs='epsg:4326')\n",
    "crossing_endpoints_1['idx'] = 0\n",
    "crossing_endpoints_2 = gpd.GeoDataFrame({'edge_id':crossings['edge_id'],'geometry':crossings['geometry'].apply(lambda geom: Point(extract_endpoint(geom,-1)))},crs='epsg:4326')\n",
    "crossing_endpoints_2['idx'] = -1\n",
    "crossing_endpoints = pd.concat([crossing_endpoints_1,crossing_endpoints_2])\n",
    "crossing_endpoints.reset_index(drop=True,inplace=True)\n",
    "\n",
    "# buffer nodes by tolerance\n",
    "crossing_endpoints['buffer_geometry'] = crossing_endpoints['geometry'].buffer(0.0001)#.map(lambda x: Point(x).buffer(0.0001))\n",
    "crossing_endpoints.set_geometry('buffer_geometry',inplace=True,crs='epsg:4326')\n",
    "\n",
    "# find candidate matches with an intersect\n",
    "overlay = gpd.overlay(curb_ramps[['node_id','geometry']],crossing_endpoints,how='intersection').drop(columns=['geometry'])\n",
    "\n",
    "# bring in both geoms\n",
    "overlay = overlay.merge(curb_ramps[['node_id','geometry']],on='node_id').merge(crossing_endpoints,on=['edge_id','idx'],suffixes=(\"_node\",\"_edge\"))\n",
    "\n",
    "# calulate distance (FYI not using great circle distance but the tolerances are small)\n",
    "overlay['distance'] = gpd.GeoSeries(overlay['geometry_edge'],crs='epsg:4326').distance(gpd.GeoSeries(overlay['geometry_node'],crs='epsg:4326'))\n",
    "\n",
    "# get minimum for each\n",
    "minimum = overlay.loc[overlay.groupby(['node_id'])['distance'].idxmin()]\n",
    "\n",
    "# create virtual edges\n",
    "minimum = minimum.apply(lambda x: LineString([x['geometry_node'].coords[0][0:2],x['geometry_edge'].coords[0][0:2]]), axis=1)\n",
    "minimum = gpd.GeoDataFrame({'geometry':minimum},crs='epsg:4326')"
   ]
  },
  {
   "cell_type": "code",
   "execution_count": null,
   "id": "d01d5dac",
   "metadata": {},
   "outputs": [
    {
     "name": "stderr",
     "output_type": "stream",
     "text": [
      "C:\\Users\\tanner.passmore.ctr\\AppData\\Local\\Temp\\ipykernel_19128\\3984173286.py:6: FutureWarning: The behavior of DataFrame concatenation with empty or all-NA entries is deprecated. In a future version, this will no longer exclude empty or all-NA columns when determining the result dtypes. To retain the old behavior, exclude the relevant entries before the concat operation.\n",
      "  gatis_edges_gdf = pd.concat([gatis_edges_gdf,gatis_virtual_links])\n"
     ]
    }
   ],
   "source": [
    "gatis_virtual_links = gatis_functions.geojson_to_geopandas(gatis_edges_geojson,'edge','virtual_link')\n",
    "gatis_virtual_links = gatis_functions.create_empty_gdf_like(gatis_virtual_links,minimum)\n",
    "\n",
    "# re-index\n",
    "gatis_virtual_links.index = range(gatis_edges_gdf.shape[0],gatis_edges_gdf.shape[0]+gatis_virtual_links.shape[0])\n",
    "gatis_edges_gdf = pd.concat([gatis_edges_gdf,gatis_virtual_links])"
   ]
  },
  {
   "cell_type": "markdown",
   "id": "b3b94f38",
   "metadata": {},
   "source": [
    "### Join curb ramps nodes to the nearest sidewalk (interpolate on sidewalk edges and add a virtual link)"
   ]
  },
  {
   "cell_type": "code",
   "execution_count": null,
   "id": "4221e277",
   "metadata": {},
   "outputs": [
    {
     "name": "stderr",
     "output_type": "stream",
     "text": [
      "C:\\Users\\tanner.passmore.ctr\\AppData\\Local\\Temp\\ipykernel_19128\\951921457.py:5: UserWarning: Geometry is in a geographic CRS. Results from 'buffer' are likely incorrect. Use 'GeoSeries.to_crs()' to re-project geometries to a projected CRS before this operation.\n",
      "\n",
      "  curb_ramps['buffer_geometry'] = curb_ramps.buffer(0.0001)\n",
      "C:\\Users\\tanner.passmore.ctr\\AppData\\Local\\Temp\\ipykernel_19128\\951921457.py:33: FutureWarning: The behavior of DataFrame concatenation with empty or all-NA entries is deprecated. In a future version, this will no longer exclude empty or all-NA columns when determining the result dtypes. To retain the old behavior, exclude the relevant entries before the concat operation.\n",
      "  gatis_edges_gdf = pd.concat([gatis_edges_gdf,gatis_virtual_links])\n"
     ]
    }
   ],
   "source": [
    "sidewalks = gatis_edges_gdf[gatis_edges_gdf['edge_type']=='sidewalk']\n",
    "curb_ramps = gatis_nodes_gdf[gatis_nodes_gdf['node_type']=='curb_ramp']\n",
    "\n",
    "# buffer curb_ramp nodes by tolerance (0.0001 degrees)\n",
    "curb_ramps['buffer_geometry'] = curb_ramps.buffer(0.0001)\n",
    "curb_ramps.set_geometry('buffer_geometry',crs='epsg:4326',inplace=True)\n",
    "\n",
    "# intersect to get sidewalk candidates\n",
    "candidate_matches = gpd.overlay(sidewalks[['edge_id','geometry']],curb_ramps[['node_id','buffer_geometry']],how='intersection').drop(columns=['geometry'])\n",
    "candidate_matches = candidate_matches.merge(curb_ramps[['node_id','geometry']],on='node_id').merge(sidewalks[['edge_id','geometry']],on='edge_id',suffixes=(\"_node\",\"_edge\"))\n",
    "candidate_matches\n",
    "\n",
    "# interpolate a point on sidewalk\n",
    "candidate_matches['projection'] = candidate_matches.apply(lambda x: x['geometry_edge'].project(x['geometry_node']), axis=1)\n",
    "candidate_matches['interpolated_point'] = candidate_matches.apply(lambda x: shapely.line_interpolate_point(x['geometry_edge'],x['projection']), axis=1)\n",
    "\n",
    "# calculate distances\n",
    "candidate_matches['match_dist'] = candidate_matches.apply(lambda x: x['geometry_node'].distance(x['interpolated_point']), axis=1)\n",
    "\n",
    "# accept nearest sidewalk point for each curb ramp node\n",
    "minimum = candidate_matches.loc[candidate_matches.groupby('node_id')['match_dist'].idxmin()]\n",
    "\n",
    "# create virtual links\n",
    "minimum = minimum.apply(lambda x: LineString([x['geometry_node'].coords[0][0:2],x['interpolated_point'].coords[0][0:2]]), axis=1)\n",
    "minimum = gpd.GeoDataFrame({'geometry':minimum},crs='epsg:4326')\n",
    "\n",
    "# add to gatis edges\n",
    "gatis_virtual_links = gatis_functions.geojson_to_geopandas(gatis_edges_geojson,'edge','virtual_link')\n",
    "gatis_virtual_links = gatis_functions.create_empty_gdf_like(gatis_virtual_links,minimum)\n",
    "\n",
    "# re-index\n",
    "gatis_virtual_links.index = range(gatis_edges_gdf.shape[0],gatis_edges_gdf.shape[0]+gatis_virtual_links.shape[0])\n",
    "gatis_edges_gdf = pd.concat([gatis_edges_gdf,gatis_virtual_links])"
   ]
  },
  {
   "cell_type": "markdown",
   "id": "4e3dcdcc",
   "metadata": {},
   "source": [
    "## Export Data"
   ]
  },
  {
   "cell_type": "code",
   "execution_count": null,
   "id": "a2b7221d",
   "metadata": {},
   "outputs": [],
   "source": [
    "# NOTE these IDs are for demonstration purposes\n",
    "# give ids\n",
    "gatis_edges_gdf['edge_id'] = [str(x) for x in range(0,gatis_edges_gdf.shape[0])]\n",
    "gatis_nodes_gdf['node_id'] = [str(x) for x in range(0,gatis_nodes_gdf.shape[0])]"
   ]
  },
  {
   "cell_type": "code",
   "execution_count": null,
   "id": "8878c570",
   "metadata": {},
   "outputs": [],
   "source": [
    "# export a gpkg version for viewing in qgis\n",
    "gatis_edges_gdf.loc[:,gatis_edges_gdf.isna().all(axis=0)==False].to_file(\"austin_sample.gpkg\",layer=\"gatis_edges\")\n",
    "gatis_nodes_gdf.loc[:,gatis_nodes_gdf.isna().all(axis=0)==False].to_file(\"austin_sample.gpkg\",layer=\"gatis_nodes\")\n",
    "\n",
    "# export the GeoJSON version\n",
    "with open(\"austin_sample_edges.geojson\",\"w\") as f:\n",
    "    f.write(gatis_edges_gdf.to_json(na=\"drop\",indent=2,drop_id=True,to_wgs84=True))\n",
    "with open(\"austin_sample_nodes.geojson\",\"w\") as f:\n",
    "    f.write(gatis_nodes_gdf.to_json(na=\"drop\",indent=2,drop_id=True,to_wgs84=True))"
   ]
  },
  {
   "cell_type": "markdown",
   "id": "38431cb7",
   "metadata": {},
   "source": [
    "## Export Leaflet Maps\n",
    "Exports a leaflet map that you can view in your browser. Don't run this for the full dataset because it won't finish running."
   ]
  },
  {
   "cell_type": "code",
   "execution_count": null,
   "id": "eb4e7d84",
   "metadata": {},
   "outputs": [],
   "source": [
    "bboxes = []\n",
    "bboxes.append(shapely.from_wkt(\"POLYGON((-97.748244 30.278771, -97.736805 30.278771, -97.736805 30.267221, -97.748244 30.267221, -97.748244 30.278771))\"))\n",
    "bboxes.append(shapely.from_wkt(\"POLYGON((-97.729976 30.258163, -97.718538 30.258163, -97.718538 30.246611, -97.729976 30.246611, -97.729976 30.258163))\"))\n",
    "\n",
    "# write a description for the data\n",
    "description = \\\n",
    "\"\"\"This sample dataset was created from Austin's existing municipal data of streets, trails, sidewalks, crosswalks, and curb ramps. In terms of GATIS' tier structure, this data is Tier 2, though it contains some additional attributes above Tier 2. Note, this is only a clipped sample of the complete dataset; the full dataset can be downloaded using the following links:\n",
    "\n",
    "<ul>\n",
    "    <li><a href='https://usdot.maps.arcgis.com/home/item.html?id=936f374afa8d4612ba1fafaf3eedc000'>Sample GATIS Edges (Austin, TX) Feature Layer</a></li>\n",
    "    <li><a href='https://usdot.maps.arcgis.com/home/item.html?id=bd0e32d7b09e4cd6a9cb41a6ac8b8864'>Sample GATIS Edges (Austin, TX) GeoJSON Download</a></li>\n",
    "    <li><a href='https://usdot.maps.arcgis.com/home/item.html?id=1c563a62a83244ba9edbeaa6eafee6a2'>Sample GATIS Nodes (Austin, TX) Feature Layer</a></li>\n",
    "    <li><a href='https://usdot.maps.arcgis.com/home/item.html?id=5b63f3dd5adf4503a756c2c0e9738a2c'>Sample GATIS Nodes (Austin, TX) GeoJSON Download</a></li>\n",
    "</ul>\n",
    "\n",
    "See the full process <a href='https://github.com/dotbts/BPA/blob/main/draft_gatis_specification/sample_data/austin/Austin_GATIS_Conversion.ipynb'>here</a>.\n",
    "\"\"\"\n",
    "\n",
    "for idx, bbox in enumerate(bboxes):\n",
    "    if bbox is not None:\n",
    "        masked_edges = gatis_edges_gdf[gatis_edges_gdf['geometry'].intersects(bbox)]\n",
    "        masked_nodes = gatis_nodes_gdf[gatis_nodes_gdf['geometry'].intersects(bbox)]\n",
    "        m = create_maps.display_layers(masked_edges, masked_nodes, edge_categories=\"edge_type\", node_categories=\"node_type\")\n",
    "        m.save(here(f\"draft_gatis_specification/sample_data/maps/austin_{idx+1}.html\"))\n",
    "\n",
    "        maps_dict = {\n",
    "            \"key\": f\"austin_{idx+1}\",\n",
    "            \"label\": f\"Austin, TX {idx+1} (City of Austin)\",\n",
    "            \"description\": description\n",
    "        }\n",
    "        # saves to maps.json and creates a new key for the path to the map for the GATIS Explorer\n",
    "        create_maps.add_to_json(maps_dict)\n"
   ]
  }
 ],
 "metadata": {
  "kernelspec": {
   "display_name": "gatis-sample-data",
   "language": "python",
   "name": "python3"
  },
  "language_info": {
   "codemirror_mode": {
    "name": "ipython",
    "version": 3
   },
   "file_extension": ".py",
   "mimetype": "text/x-python",
   "name": "python",
   "nbconvert_exporter": "python",
   "pygments_lexer": "ipython3",
   "version": "3.13.5"
  }
 },
 "nbformat": 4,
 "nbformat_minor": 5
}
