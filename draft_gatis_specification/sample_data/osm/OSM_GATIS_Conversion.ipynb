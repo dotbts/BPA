{
 "cells": [
  {
   "cell_type": "markdown",
   "id": "aa33b669",
   "metadata": {},
   "source": [
    "# GATIS Sample Data (using OpenStreetMap as a base)\n",
    "This notebook converts OSM data into a sample GATIS dataset.\n",
    "\n",
    "Need to decide:\n",
    "- What to do about isolated features that aren't connected?\n",
    "- Polygons?"
   ]
  },
  {
   "cell_type": "code",
   "execution_count": null,
   "id": "8a72ec05",
   "metadata": {},
   "outputs": [],
   "source": [
    "import geopandas as gpd\n",
    "import pandas as pd\n",
    "from pathlib import Path\n",
    "import json\n",
    "import random\n",
    "\n",
    "from importlib import reload\n",
    "from gatis_sample_data import utils, osm_functions, create_maps"
   ]
  },
  {
   "cell_type": "markdown",
   "id": "6a0adbfe",
   "metadata": {},
   "source": [
    "## Define a bounding box"
   ]
  },
  {
   "cell_type": "code",
   "execution_count": null,
   "id": "d8f52f7f",
   "metadata": {},
   "outputs": [],
   "source": [
    "bboxes = {\n",
    "    \"carmel, in\": {\n",
    "        \"bbox_center_lonlat\": [39.975280251411064, -86.127094177054],\n",
    "        \"bbox_length_ft\": 5280,\n",
    "        \"features\": [\"roundabouts\"],\n",
    "        \"type\": \"suburban\"\n",
    "    },\n",
    "    \"washington, dc\": {\n",
    "        \"bbox_center_lonlat\": [38.92878332898851, -77.03263427740389],\n",
    "        \"bbox_length_ft\": 2640,\n",
    "        \"features\": [\"ped scramble\", \"cycletrack\", \"sidewalks\"],\n",
    "        \"type\": \"urban\"\n",
    "    },\n",
    "    \"detroit, or\": {\n",
    "        \"bbox_center_lonlat\": [44.735233200754266, -122.15372770979087],\n",
    "        \"bbox_length_ft\": 1760,\n",
    "        \"features\": [\"ped lane\"],\n",
    "        \"type\": \"rural\"\n",
    "    },\n",
    "    \"seattle, wa\": {\n",
    "        \"bbox_center_lonlat\": [47.62089297947648, -122.34240301233211],\n",
    "        \"bbox_length_ft\": 2640,\n",
    "        \"features\": [\"protected intersection\"],\n",
    "        \"type\": \"urban\"\n",
    "    },\n",
    "    \"chamblee, ga\": {\n",
    "        \"bbox_center_lonlat\": [33.84903465591753, -84.321979334293],\n",
    "        \"bbox_length_ft\": 1760,\n",
    "        \"features\": [\"midblock crossing\"],\n",
    "        \"type\": \"suburban\"\n",
    "    }\n",
    "}"
   ]
  },
  {
   "cell_type": "markdown",
   "id": "f79fc1c8",
   "metadata": {},
   "source": [
    "## Download OSM Data Using Overpass and OSMnx (only need to run this once per bounding box)\n",
    "For this example we'll use Seattle, WA"
   ]
  },
  {
   "cell_type": "code",
   "execution_count": 6,
   "id": "8e97eaef",
   "metadata": {},
   "outputs": [
    {
     "name": "stdout",
     "output_type": "stream",
     "text": [
      "Retrieving OSM data...\n"
     ]
    }
   ],
   "source": [
    "edges, nodes, zones = osm_functions.download_osm_from_bbox(\n",
    "    bboxes[\"seattle, wa\"]['bbox_center_lonlat'],\n",
    "    bboxes[\"seattle, wa\"][\"bbox_length_ft\"]\n",
    ")\n",
    "\n",
    "# export\n",
    "if (Path.cwd()/\"data\").is_dir() == False:\n",
    "    (Path.cwd()/\"data\").mkdir()\n",
    "\n",
    "if edges.shape[0] > 0:\n",
    "    with (Path.cwd()/\"data/osm_edges.geojson\").open('w') as f:\n",
    "        f.write(edges.to_json(na=\"drop\",indent=4))\n",
    "if nodes.shape[0] > 0:\n",
    "    with (Path.cwd()/\"data/osm_nodes.geojson\").open('w') as f:\n",
    "        f.write(nodes.to_json(na=\"drop\",indent=4))\n",
    "if zones.shape[0] > 0:        \n",
    "    with (Path.cwd()/\"data/osm_zones.geojson\").open('w') as f:\n",
    "        f.write(zones.to_json(na=\"drop\",indent=4))"
   ]
  },
  {
   "cell_type": "markdown",
   "id": "94c34bd5",
   "metadata": {},
   "source": [
    "## Load OSM Data"
   ]
  },
  {
   "cell_type": "code",
   "execution_count": 11,
   "id": "baaeb111",
   "metadata": {},
   "outputs": [
    {
     "name": "stderr",
     "output_type": "stream",
     "text": [
      "Skipping field nodes: unsupported OGR type: 13\n",
      "c:\\Users\\tanner.passmore.ctr\\AppData\\Local\\miniconda3\\envs\\gatis-sample-data\\Lib\\site-packages\\pyogrio\\raw.py:198: RuntimeWarning: Several features with id = 4755100 have been found. Altering it to be unique. This warning will not be emitted anymore for this layer\n",
      "  return ogr_read(\n"
     ]
    }
   ],
   "source": [
    "edges = gpd.read_file(Path.cwd()/\"data/osm_edges.geojson\")\n",
    "\n",
    "# process the column names\n",
    "new_cols = []\n",
    "for x in edges.columns:\n",
    "    split = x.split('tags.',maxsplit=1)\n",
    "    if len(split) == 1:\n",
    "        new_cols.append(split[0])\n",
    "    elif split[1] in new_cols:\n",
    "        new_cols.append(\"dup_tag.\"+x)\n",
    "    else:\n",
    "        new_cols.append(split[1])\n",
    "edges.columns = new_cols\n",
    "\n",
    "# things to throw out of the osm data\n",
    "edges = edges[edges['highway'].isin(['service']) == False]\n",
    "\n",
    "# reset index\n",
    "edges.reset_index(drop=True,inplace=True)"
   ]
  },
  {
   "cell_type": "markdown",
   "id": "a3e843cc",
   "metadata": {},
   "source": [
    "## Create GATIS Edges DataFrame"
   ]
  },
  {
   "cell_type": "code",
   "execution_count": 18,
   "id": "7c673c04",
   "metadata": {},
   "outputs": [],
   "source": [
    "# import tier 4 GATIS template so that all of the possible attributes are in there\n",
    "import requests\n",
    "gatis_url = \"https://raw.githubusercontent.com/dotbts/BPA/main/draft_gatis_specification/specification_jsons\"\n",
    "edges_spec = requests.get(gatis_url + \"/edges.json\").json()"
   ]
  },
  {
   "cell_type": "code",
   "execution_count": 19,
   "id": "5b6d0b12",
   "metadata": {},
   "outputs": [],
   "source": [
    "# regular columns\n",
    "regular_cols = [x['name'] for x in edges_spec['attributes']]\n",
    "\n",
    "# left and right columns for road aligned sidewalks and bikeways\n",
    "sidewalk_cols = [\"sidewalk:left:presence\",\"sidewalk:right:presence\"] + \\\n",
    "    [\"sidewalk:left:\"+x['name'] for x in edges_spec['attributes'] if ('recommended' in x['presence']['sidewalk']) | ('required' in x['presence']['sidewalk']) ] + \\\n",
    "    [\"sidewalk:right:\"+x['name'] for x in edges_spec['attributes'] if ('recommended' in x['presence']['sidewalk']) | ('required' in x['presence']['sidewalk'])]\n",
    "\n",
    "bikeway_cols = [\"bikeway:left:presence\",\"bikeway:right:presence\"] + \\\n",
    "    [\"bikeway:left:\"+x['name'] for x in edges_spec['attributes'] if ('recommended' in x['presence']['bikeway']) | ('required' in x['presence']['bikeway'])] + \\\n",
    "    [\"bikeway:right:\"+x['name'] for x in edges_spec['attributes'] if ('recommended' in x['presence']['bikeway']) | ('required' in x['presence']['bikeway'])]\n",
    "\n",
    "# create empty dataframe\n",
    "all_columns = regular_cols + sidewalk_cols + bikeway_cols\n",
    "gatis_edges = pd.DataFrame(data=[[None for col in all_columns] for x in range(0,edges.shape[0])],columns=all_columns)\n",
    "\n",
    "# assign geometry to dataframe\n",
    "gatis_edges = gpd.GeoDataFrame(gatis_edges,geometry=edges[\"geometry\"])\n",
    "\n",
    "# infill edge ids\n",
    "gatis_edges['edge_id'] = range(1,gatis_edges.shape[0]+1)"
   ]
  },
  {
   "cell_type": "code",
   "execution_count": 20,
   "id": "313edd2e",
   "metadata": {},
   "outputs": [],
   "source": [
    "# http://wiki.openstreetmap.org/wiki/Key:highway#Roads\n",
    "\n",
    "# road\n",
    "is_road = edges['highway'].isin([\n",
    "    \"motorway\", \"trunk\", \"primary\",\n",
    "    \"secondary\", \"tertiary\", \"unclassified\",\n",
    "    \"residential\", \"motorway_link\", \"trunk_link\",\n",
    "    \"primary_link\", \"secondary_link\", \"tertiary_link\",\n",
    "    \"living_street\"\n",
    "])\n",
    "gatis_edges.loc[is_road,'edge_type'] = 'road'\n",
    "\n",
    "# sidewalk\n",
    "is_sidewalk = (edges['highway'] == 'footway') & (edges['footway'] == 'sidewalk')\n",
    "gatis_edges.loc[is_sidewalk,'edge_type'] = 'sidewalk'\n",
    "\n",
    "# footpath\n",
    "# have a surface condition too?\n",
    "is_footpath1 = edges['highway'] == 'path'\n",
    "is_footpath2 = (edges['highway'] == 'footway') & (edges['footway'].isin(['sidewalk','crossing','traffic_island']) == False)\n",
    "is_footpath3 = edges['highway'] == 'pedestrian'\n",
    "gatis_edges.loc[(is_footpath1 | is_footpath2 | is_footpath3),'edge_type'] = 'footpath'\n",
    "\n",
    "# crossing\n",
    "is_crossing = (edges['highway'] == 'footway') & (edges['footway'] == 'crossing')\n",
    "gatis_edges.loc[is_crossing,'edge_type'] = 'crossing'\n",
    "\n",
    "# traffic island\n",
    "is_traffic_island = (edges['highway'] == 'footway') & (edges['footway'] == 'traffic_island')\n",
    "gatis_edges.loc[is_traffic_island,'edge_type'] = 'traffic_island'\n",
    "\n",
    "# steps\n",
    "is_steps = (edges['highway'] == 'steps') & (edges['conveying'].isna())\n",
    "gatis_edges.loc[is_steps,'edge_type'] = 'steps'\n",
    "\n",
    "# escalator\n",
    "is_escaltor = (edges['highway'] == 'steps') & (edges['conveying'].isin(['yes','forward','backward','reversible']))\n",
    "gatis_edges.loc[is_escaltor,'edge_type'] = 'escalator'\n",
    "\n",
    "# bikeway\n",
    "is_bikeway = (edges['highway'] == 'cycleway') & (edges['foot'].isna() | (edges['foot'].isin(['no'])))\n",
    "gatis_edges.loc[is_bikeway,'edge_type'] = 'bikeway'\n",
    "\n",
    "# multi_use_path\n",
    "is_multi_use_path = (edges['highway'] == 'cycleway') & ((edges['segregated']=='no') | edges['foot'].isin(['designated','yes']))\n",
    "gatis_edges.loc[is_multi_use_path,'edge_type'] = 'multi_use_path'"
   ]
  },
  {
   "cell_type": "markdown",
   "id": "0ae502fc",
   "metadata": {},
   "source": [
    "### Classify Road aligned features"
   ]
  },
  {
   "cell_type": "code",
   "execution_count": 21,
   "id": "168b0196",
   "metadata": {},
   "outputs": [],
   "source": [
    "def road_associated_tags(string):\n",
    "    return [\n",
    "        string,\n",
    "        string+\":both\",\n",
    "        string+\":left\",\n",
    "        string+\":right\"\n",
    "    ]\n",
    "def access_columns(cols,df):\n",
    "    filtered = [col for col in cols if col in df.columns]\n",
    "    dropped = list(set(cols)-set(filtered))\n",
    "    if len(dropped) > 0:\n",
    "        print(f\"{dropped} are not in dataframe\")\n",
    "    return filtered\n",
    "\n",
    "cycleway_cols = access_columns(road_associated_tags(\"cycleway\"),edges)\n",
    "sidewalk_cols = access_columns(road_associated_tags(\"sidewalk\"),edges)"
   ]
  },
  {
   "cell_type": "code",
   "execution_count": 22,
   "id": "6ae579b8",
   "metadata": {},
   "outputs": [
    {
     "name": "stdout",
     "output_type": "stream",
     "text": [
      "cycleway\n",
      "[None, 'lane', 'shared_lane', 'no', 'separate', 'track', 'crossing']\n",
      "cycleway:both\n",
      "[None, 'no']\n",
      "cycleway:left\n",
      "[None, 'track', 'lane', 'separate', 'no', 'shared_lane']\n",
      "cycleway:right\n",
      "[None, 'lane', 'shared_lane', 'no', 'separate', 'track']\n"
     ]
    }
   ],
   "source": [
    "for col in cycleway_cols:\n",
    "    print(col)\n",
    "    print(edges[col].unique().tolist())"
   ]
  },
  {
   "cell_type": "code",
   "execution_count": 23,
   "id": "da858eed",
   "metadata": {},
   "outputs": [
    {
     "name": "stdout",
     "output_type": "stream",
     "text": [
      "sidewalk\n",
      "[None, 'separate', 'right', 'both', 'no']\n",
      "sidewalk:both\n",
      "[None, 'separate']\n",
      "sidewalk:left\n",
      "['no', None, 'separate']\n",
      "sidewalk:right\n",
      "['separate', None, 'no']\n"
     ]
    }
   ],
   "source": [
    "for col in sidewalk_cols:\n",
    "    print(col)\n",
    "    print(edges[col].unique().tolist())"
   ]
  },
  {
   "cell_type": "code",
   "execution_count": 24,
   "id": "1840dfc0",
   "metadata": {},
   "outputs": [],
   "source": [
    "on_road = gatis_edges['edge_type'] == 'road'\n",
    "left_sidewalk = edges['sidewalk'].isin(['both','left','yes']) | edges['sidewalk:both'].isin(['yes']) | edges['sidewalk:left'].isin(['yes'])\n",
    "right_sidewalk = edges['sidewalk'].isin(['both','right','yes']) | edges['sidewalk:both'].isin(['yes']) | edges['sidewalk:right'].isin(['yes'])\n",
    "\n",
    "gatis_edges.loc[left_sidewalk & on_road,'sidewalk:left:presence'] = 'yes'\n",
    "gatis_edges.loc[right_sidewalk & on_road,'sidewalk:right:presence'] = 'yes'"
   ]
  },
  {
   "cell_type": "code",
   "execution_count": 25,
   "id": "90eafc9f",
   "metadata": {},
   "outputs": [],
   "source": [
    "# identify separated bike lanes\n",
    "# TODO two-way / contra-flow / etc\n",
    "gatis_edges.loc[gatis_edges['edge_type']=='cycleway','bikeway_type'] = 'separated bike lane'\n",
    "\n",
    "# road aligned bicycle facilities\n",
    "on_road = gatis_edges['edge_type'] == 'road'\n",
    "\n",
    "#bike lanes\n",
    "left_bike_lane = edges['cycleway'].isin(['lane']) | edges['cycleway:both'].isin(['lane']) | edges['cycleway:left'].isin(['lane'])\n",
    "right_bike_lane = edges['cycleway'].isin(['lane']) | edges['cycleway:both'].isin(['lane']) | edges['cycleway:right'].isin(['lane'])\n",
    "gatis_edges.loc[left_bike_lane & on_road,'cycleway:left:bikeway_type'] = 'bike lane'\n",
    "gatis_edges.loc[right_bike_lane & on_road,'cycleway:right:bikeway_type'] = 'bike lane'\n",
    "\n",
    "#cycletracks\n",
    "left_cycletrack = edges['cycleway'].isin(['track']) | edges['cycleway:both'].isin(['track']) | edges['cycleway:left'].isin(['track'])\n",
    "right_cycletrack = edges['cycleway'].isin(['track']) | edges['cycleway:both'].isin(['track']) | edges['cycleway:right'].isin(['track'])\n",
    "gatis_edges.loc[left_cycletrack & on_road,'cycleway:left:bikeway_type'] = 'separated bike lane'\n",
    "gatis_edges.loc[right_cycletrack & on_road,'cycleway:right:bikeway_type'] = 'separated bike lane'\n",
    "\n",
    "#sharrows\n",
    "left_sharrow = edges['cycleway'].isin(['shared_lane']) | edges['cycleway:both'].isin(['shared_lane']) | edges['cycleway:left'].isin(['shared_lane'])\n",
    "right_sharrow = edges['cycleway'].isin(['shared_lane']) | edges['cycleway:both'].isin(['shared_lane']) | edges['cycleway:right'].isin(['shared_lane'])\n",
    "gatis_edges.loc[left_sharrow & on_road,'cycleway:left:bikeway_type'] = 'sharrow'\n",
    "gatis_edges.loc[right_sharrow & on_road,'cycleway:right:bikeway_type'] = 'sharrow'\n",
    "\n",
    "#share busway\n",
    "left_buslane = edges['cycleway'].isin(['share_busway']) | edges['cycleway:both'].isin(['share_busway']) | edges['cycleway:left'].isin(['shared_lane'])\n",
    "right_buslane = edges['cycleway'].isin(['share_busway']) | edges['cycleway:both'].isin(['share_busway']) | edges['cycleway:right'].isin(['shared_lane'])\n",
    "gatis_edges.loc[left_buslane & on_road,'cycleway:left:bikeway_type'] = 'bus lane'\n",
    "gatis_edges.loc[right_buslane & on_road,'cycleway:right:bikeway_type'] = 'bus lane'\n",
    "\n",
    "#presence\n",
    "left_presence = left_bike_lane | left_cycletrack | left_sharrow | left_buslane\n",
    "right_presence = right_bike_lane | right_cycletrack | right_sharrow | right_buslane\n",
    "gatis_edges.loc[left_presence & on_road,'cycleway:left:presence'] = 'yes'\n",
    "gatis_edges.loc[right_presence & on_road,'cycleway:right:presence'] = 'yes'"
   ]
  },
  {
   "cell_type": "code",
   "execution_count": 26,
   "id": "7b242825",
   "metadata": {},
   "outputs": [],
   "source": [
    "# drop road if no sidewalk or cylceway\n",
    "is_road = (gatis_edges['edge_type']=='road')\n",
    "no_cycleway_or_sidewalk = gatis_edges[[\n",
    "    'cycleway:left:presence','cycleway:right:presence',\n",
    "    'sidewalk:left:presence',\"sidewalk:right:presence\"]].isna().all(axis=1)\n",
    "gatis_edges = gatis_edges[(is_road & no_cycleway_or_sidewalk) == False]"
   ]
  },
  {
   "cell_type": "code",
   "execution_count": 27,
   "id": "bc08966d",
   "metadata": {},
   "outputs": [],
   "source": [
    "# surface_issue = [x for x in edges_spec['attributes'] if x['name'] == 'surface_issue'][0]\n",
    "\n",
    "# # edges for which this attribute is recommended or required for\n",
    "# edge_types = [key for key, item in surface_issue['presence'].items() if (\"recommended\" in item) | (\"required\" in item)]\n",
    "# cond = gatis_edges[gatis_edges['edge_type'].isin(edge_types)].index\n",
    "\n",
    "# # hard-coded (need to change if keys change) have for each field\n",
    "# #TODO change to list of tuples\n",
    "# # weights are normalized so they don't need to add up to one\n",
    "# # higher means more frequent, equal means equally likely\n",
    "# weights = [\n",
    "#     ('yes', 10),\n",
    "#     ('no', 5),\n",
    "#     ('cracking', 1),\n",
    "#     ('scaling', 1),\n",
    "#     ('spalling', 1),\n",
    "#     ('overgrowth', 1),\n",
    "#     ('uneven/displacement', 1),\n",
    "#     ('frequent water pooling', 1),\n",
    "#     ('heaving', 1),\n",
    "#     ('missing bricks / stones', 1),\n",
    "#     ('grates / utility covers / other surface impediments', 1),\n",
    "#     ('potholes / holes', 1),\n",
    "#     ('slickness', 1),\n",
    "#     ('uneven joints', 1),\n",
    "#     ('markings worn / missing', 1),\n",
    "#     ('detectable warning surface damage', 1),\n",
    "#     ('other', 1)\n",
    "# ]\n",
    "# if len(set.difference(set(surface_issue['listed_values']), set(list(weights.keys())))) != 0:\n",
    "#     print(\"Key mismatch\")\n",
    "    \n",
    "# sampleList = list(weights.keys())\n",
    "# weights = [x[1] for x in weights.items()]\n",
    "\n",
    "# randomList = random.choices(sampleList,weights=weights,k=len(cond))\n",
    "# gatis_edges.loc[gatis_edges['edge_type'].isin(edge_types),'surface_issue'] = pd.Series(randomList,index=cond)"
   ]
  },
  {
   "cell_type": "code",
   "execution_count": 28,
   "id": "6efdbae0",
   "metadata": {},
   "outputs": [],
   "source": [
    "# gatis_edges.to_file(\"test.geojson\")\n",
    "#NOTE don't use GeoPandas to_file because there a lot of null values\n",
    "#want to drop null values for each record so that the resulting geojson isn't as large\n",
    "with open(\"osm_sample_edges.geojson\",\"w\") as f:\n",
    "    f.write(gatis_edges.to_json(na=\"drop\",indent=2))"
   ]
  },
  {
   "cell_type": "markdown",
   "id": "c763b7ad",
   "metadata": {},
   "source": [
    "## Create GATIS Nodes"
   ]
  },
  {
   "cell_type": "code",
   "execution_count": 30,
   "id": "6b0e7762",
   "metadata": {},
   "outputs": [],
   "source": [
    "nodes = gpd.read_file(Path.cwd()/\"data/osm_nodes.geojson\")\n",
    "\n",
    "new_cols = []\n",
    "for x in nodes.columns:\n",
    "    split = x.split('tags.',maxsplit=1)\n",
    "    if len(split) == 1:\n",
    "        new_cols.append(split[0])\n",
    "    elif split[1] in new_cols:\n",
    "        new_cols.append(\"dup_tag.\"+x)\n",
    "    else:\n",
    "        new_cols.append(split[1])\n",
    "nodes.columns = new_cols"
   ]
  },
  {
   "cell_type": "code",
   "execution_count": 33,
   "id": "b91d1e05",
   "metadata": {},
   "outputs": [],
   "source": [
    "import requests\n",
    "gatis_url = \"https://raw.githubusercontent.com/dotbts/BPA/main/draft_gatis_specification/specification_jsons\"\n",
    "nodes_spec = requests.get(gatis_url + \"/nodes.json\").json()"
   ]
  },
  {
   "cell_type": "code",
   "execution_count": 34,
   "id": "51200221",
   "metadata": {},
   "outputs": [],
   "source": [
    "# regular columns\n",
    "regular_cols = [x['name'] for x in nodes_spec['attributes']]\n",
    "\n",
    "# create empty dataframe\n",
    "gatis_nodes = pd.DataFrame(data=[[None for col in regular_cols] for x in range(0,nodes.shape[0])],columns=regular_cols)\n",
    "\n",
    "# assign geometry to dataframe\n",
    "gatis_nodes = gpd.GeoDataFrame(gatis_nodes,geometry=nodes[\"geometry\"])\n",
    "\n",
    "# infill edge ids\n",
    "gatis_nodes['node_id'] = range(1,gatis_nodes.shape[0]+1)"
   ]
  },
  {
   "cell_type": "code",
   "execution_count": 35,
   "id": "fb7c95e7",
   "metadata": {},
   "outputs": [],
   "source": [
    "# curb_ramp\n",
    "curbs = (nodes['barrier'] == 'kerb') | (nodes['kerb'].notna())\n",
    "if curbs.sum() > 0:\n",
    "    gatis_nodes.loc[curbs,\"node_type\"] = \"curb_ramp\"\n",
    "    gatis_nodes.loc[nodes['kerb'].notna(),\"curb_type\"] = nodes['kerb']\n",
    "\n",
    "# transit_stop\n",
    "bus_stops = (nodes['highway'] == 'bus_stop')\n",
    "if bus_stops.sum() > 0:\n",
    "    gatis_nodes.loc[bus_stops,\"node_type\"] = \"transit_stop\"\n",
    "    if \"gtfs:dataset_id\" in nodes.columns:\n",
    "        gatis_nodes.loc[gatis_nodes['node_type']=='transit_stop',\"agency_id\"] = nodes.loc[gatis_nodes['node_type']=='transit_stop','gtfs:dataset_id']\n",
    "    if \"gtfs:stop_id\" in nodes.columns:\n",
    "        gatis_nodes.loc[gatis_nodes['node_type']=='transit_stop','stop_id'] = nodes.loc[gatis_nodes['node_type']=='transit_stop','gtfs:stop_id']\n",
    "\n",
    "# assign non-assigned values as generic nodes?\n",
    "# gatis_nodes.loc[gatis_nodes['node_type'].isna(),'node_type'] = \"generic\"\n",
    "\n",
    "# or drop entirely?\n",
    "gatis_nodes = gatis_nodes.loc[gatis_nodes['node_type'].notna()]"
   ]
  },
  {
   "cell_type": "code",
   "execution_count": 36,
   "id": "581a7797",
   "metadata": {},
   "outputs": [],
   "source": [
    "with open(\"osm_sample_nodes.geojson\",\"w\") as f:\n",
    "    f.write(gatis_nodes.to_json(na=\"drop\",indent=2))"
   ]
  },
  {
   "cell_type": "markdown",
   "id": "8b5302e1",
   "metadata": {},
   "source": [
    "## GATIS Zones"
   ]
  },
  {
   "cell_type": "code",
   "execution_count": 37,
   "id": "c4ea1e53",
   "metadata": {},
   "outputs": [
    {
     "name": "stderr",
     "output_type": "stream",
     "text": [
      "Skipping field nodes: unsupported OGR type: 13\n"
     ]
    }
   ],
   "source": [
    "zones = gpd.read_file(Path.cwd()/\"data/osm_zones.geojson\") # nodes with attributes\n",
    "\n",
    "new_cols = []\n",
    "for x in zones.columns:\n",
    "    split = x.split('tags.',maxsplit=1)\n",
    "    if len(split) == 1:\n",
    "        new_cols.append(split[0])\n",
    "    elif split[1] in new_cols:\n",
    "        new_cols.append(\"dup_tag.\"+x)\n",
    "    else:\n",
    "        new_cols.append(split[1])\n",
    "zones.columns = new_cols"
   ]
  },
  {
   "cell_type": "code",
   "execution_count": 38,
   "id": "f02d769a",
   "metadata": {},
   "outputs": [],
   "source": [
    "zones['zone_id'] = list(range(0,zones.shape[0]))\n",
    "\n",
    "zones['zone_type'] = 'pedestrian'"
   ]
  },
  {
   "cell_type": "code",
   "execution_count": 39,
   "id": "901c1b3e",
   "metadata": {},
   "outputs": [],
   "source": [
    "gatis_zones = zones[['zone_id','zone_type','geometry']]"
   ]
  },
  {
   "cell_type": "code",
   "execution_count": 41,
   "id": "704d1c6f",
   "metadata": {},
   "outputs": [],
   "source": [
    "with open(Path.cwd()/\"osm_sample_zones.geojson\",\"w\") as f:\n",
    "    f.write(gatis_zones.to_json(na=\"drop\",indent=2))"
   ]
  },
  {
   "cell_type": "markdown",
   "id": "14a5fee4",
   "metadata": {},
   "source": [
    "## Write everything into a leaflet map using folium"
   ]
  },
  {
   "cell_type": "code",
   "execution_count": null,
   "id": "2efa9f61",
   "metadata": {},
   "outputs": [],
   "source": [
    "# m = create_maps.display_layers(gatis_edges, gatis_nodes, gatis_zones, edge_categories=\"edge_type\", node_categories=\"node_type\", polygon_categories=\"zone_type\")\n",
    "# m.save(paths.root / f\"maps/seattle_osm.html\")\n",
    "\n",
    "# maps_dict = {\n",
    "#             \"key\": \"seattle_osm\",\n",
    "#             \"label\": \"Seattle, WA (OpenStreetMap)\",\n",
    "#             \"description\": \"\"\"This sample dataset was created from existing OpenStreetMap data. See the full process here.\"\"\"\n",
    "#         }\n",
    "# # saves to maps.json and creates a new key for the path to the map for the GATIS Explorer\n",
    "# create_maps.add_to_json(maps_dict)"
   ]
  }
 ],
 "metadata": {
  "kernelspec": {
   "display_name": "gatis-sample-data",
   "language": "python",
   "name": "python3"
  },
  "language_info": {
   "codemirror_mode": {
    "name": "ipython",
    "version": 3
   },
   "file_extension": ".py",
   "mimetype": "text/x-python",
   "name": "python",
   "nbconvert_exporter": "python",
   "pygments_lexer": "ipython3",
   "version": "3.13.5"
  }
 },
 "nbformat": 4,
 "nbformat_minor": 5
}
