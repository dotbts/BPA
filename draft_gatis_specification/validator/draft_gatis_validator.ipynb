{
 "cells": [
  {
   "cell_type": "markdown",
   "id": "cc7354a9",
   "metadata": {},
   "source": [
    "# Draft GATIS Validator\n",
    "This notebook uses the JSON-Schema values to validate GATIS data.\n",
    "\n",
    "Requirements:\n",
    "- Jupyter Notebook\n",
    "- jsonschema\n",
    "- pyprojroot"
   ]
  },
  {
   "cell_type": "code",
   "execution_count": null,
   "id": "79b51418",
   "metadata": {},
   "outputs": [],
   "source": [
    "from jsonschema import Draft202012Validator, validate\n",
    "from pathlib import Path\n",
    "import json\n",
    "import requests\n",
    "import copy\n",
    "from pyprojroot import here\n",
    "\n",
    "validator = Draft202012Validator({})"
   ]
  },
  {
   "cell_type": "code",
   "execution_count": null,
   "id": "cedc3136",
   "metadata": {},
   "outputs": [],
   "source": [
    "gatis_schema_directory = here(\"draft_gatis_specification/json_schemas\")\n",
    "\n",
    "# load all the gatis schema files\n",
    "with (gatis_schema_directory / \"edges_schema.json\").open('r') as fh:\n",
    "    gatis_edges_schema = json.load(fh)\n",
    "\n",
    "with (gatis_schema_directory / \"nodes_schema.json\").open('r') as fh:\n",
    "    gatis_nodes_schema = json.load(fh)\n",
    "\n",
    "with (gatis_schema_directory / \"points_schema.json\").open('r') as fh:\n",
    "    gatis_points_schema = json.load(fh)\n",
    "\n",
    "with (gatis_schema_directory / \"zones_schema.json\").open('r') as fh:\n",
    "    gatis_zones_schema = json.load(fh)"
   ]
  },
  {
   "cell_type": "code",
   "execution_count": null,
   "id": "e3b2658a",
   "metadata": {},
   "outputs": [],
   "source": [
    "# specify the path to the sample data here\n",
    "sample_edges_fp = r\"c:\\Users\\tanner.passmore.ctr\\Documents\\gatis_explorer\\draft_gatis_specification\\sample_data\\austin\\austin_sample_edges.geojson\"\n",
    "sample_nodes_fp = r\"c:\\Users\\tanner.passmore.ctr\\Documents\\gatis_explorer\\draft_gatis_specification\\sample_data\\austin\\austin_sample_nodes.geojson\"\n",
    "\n",
    "with Path(sample_edges_fp).open('r') as fh:\n",
    "    sample_edges = json.load(fh)\n",
    "with Path(sample_nodes_fp).open('r') as fh:\n",
    "    sample_nodes = json.load(fh)"
   ]
  },
  {
   "cell_type": "code",
   "execution_count": null,
   "id": "88c40786",
   "metadata": {},
   "outputs": [],
   "source": [
    "def draft_gatis_validator(data,schema,print_results=False):\n",
    "    validate(instance=data,schema=schema,format_checker=Draft202012Validator.FORMAT_CHECKER)\n",
    "    if print_results:\n",
    "        print(\"Compliant to schema!\")"
   ]
  },
  {
   "cell_type": "code",
   "execution_count": null,
   "id": "0dad5d1c",
   "metadata": {},
   "outputs": [],
   "source": [
    "draft_gatis_validator(sample_edges,gatis_edges_schema,print_results=True)"
   ]
  },
  {
   "cell_type": "code",
   "execution_count": null,
   "id": "aa664262",
   "metadata": {},
   "outputs": [],
   "source": [
    "draft_gatis_validator(sample_nodes,gatis_nodes_schema,print_results=True)"
   ]
  },
  {
   "cell_type": "code",
   "execution_count": null,
   "id": "2d8844fc",
   "metadata": {},
   "outputs": [],
   "source": []
  }
 ],
 "metadata": {
  "kernelspec": {
   "display_name": "gatis",
   "language": "python",
   "name": "python3"
  },
  "language_info": {
   "codemirror_mode": {
    "name": "ipython",
    "version": 3
   },
   "file_extension": ".py",
   "mimetype": "text/x-python",
   "name": "python",
   "nbconvert_exporter": "python",
   "pygments_lexer": "ipython3",
   "version": "3.13.7"
  }
 },
 "nbformat": 4,
 "nbformat_minor": 5
}
